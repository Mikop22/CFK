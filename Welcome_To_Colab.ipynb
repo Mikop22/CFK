{
  "cells": [
    {
      "cell_type": "markdown",
      "metadata": {
        "id": "view-in-github",
        "colab_type": "text"
      },
      "source": [
        "<a href=\"https://colab.research.google.com/github/Mikop22/CFK/blob/main/Welcome_To_Colab.ipynb\" target=\"_parent\"><img src=\"https://colab.research.google.com/assets/colab-badge.svg\" alt=\"Open In Colab\"/></a>"
      ]
    },
    {
      "cell_type": "markdown",
      "source": [
        "s+"
      ],
      "metadata": {
        "id": "_DaydiHFM4My"
      }
    },
    {
      "cell_type": "markdown",
      "source": [
        "traditional, legendary traditional, bites"
      ],
      "metadata": {
        "id": "QsDgXKctPSLA"
      }
    },
    {
      "cell_type": "code",
      "source": [
        "-- Brotein Choice (Required, Choose 1)\n",
        "INSERT INTO side_menu_groups (menu_id, name, selection_type, required) VALUES ('tradition_wrap_id', 'Regular Wrab Brotein?', 'single', TRUE);\n",
        "INSERT INTO side_menu_options (group_id, name, price, is_popular) VALUES\n",
        "  (LAST_INSERT_ID(), 'Beef & Lamb Shawarma', 2.29, TRUE),\n",
        "  (LAST_INSERT_ID(), 'Falafel', 0.00, FALSE),\n",
        "  (LAST_INSERT_ID(), 'Fried Halloumi Cheese', 0.00, FALSE);\n",
        "\n",
        "-- Garlic Choice (Required, Choose 1)\n",
        "INSERT INTO side_menu_groups (menu_id, name, selection_type, required) VALUES ('tradition_wrap_id', 'Choice of Garlic?', 'single', TRUE);\n",
        "INSERT INTO side_menu_options (group_id, name, price) VALUES\n",
        "  (LAST_INSERT_ID(), 'Regular Garlic', 0.00),\n",
        "  (LAST_INSERT_ID(), 'Sbicy Garlic', 0.00),\n",
        "  (LAST_INSERT_ID(), 'No Garlic', 0.00);\n",
        "\n",
        "-- Free Additional Toppings (Choose up to 1)\n",
        "INSERT INTO side_menu_groups (menu_id, name, selection_type, max_choices) VALUES ('tradition_wrap_id', 'FREE Additional Toppings?', 'multiple', 1);\n",
        "INSERT INTO side_menu_options (group_id, name, price) VALUES\n",
        "  (LAST_INSERT_ID(), 'Add Hot Sauce', 0.00);\n",
        "\n",
        "-- Exclusions (Choose up to 6)\n",
        "INSERT INTO side_menu_groups (menu_id, name, selection_type, max_choices) VALUES ('tradition_wrap_id', 'Traditional Wrab Exclusions (Remove Items)', 'multiple', 6);\n",
        "INSERT INTO side_menu_options (group_id, name, price) VALUES\n",
        "  (LAST_INSERT_ID(), 'REMOVE Bickles', 0.00),\n",
        "  (LAST_INSERT_ID(), 'REMOVE Bom. Molasses', 0.00),\n",
        "  (LAST_INSERT_ID(), 'REMOVE Fries', 0.00),\n",
        "  (LAST_INSERT_ID(), 'REMOVE Flame Torching', 0.00),\n",
        "  (LAST_INSERT_ID(), 'REMOVE Sumac Onion', 0.00),\n",
        "  (LAST_INSERT_ID(), 'REMOVE Tahini', 0.00);\n",
        "\n",
        "-- Add-ons\n",
        "INSERT INTO side_menu_groups (menu_id, name, selection_type) VALUES ('tradition_wrap_id', 'Add-on to your meal?', 'multiple');\n",
        "INSERT INTO side_menu_options (group_id, name, price, is_popular) VALUES\n",
        "  (LAST_INSERT_ID(), 'Saj bread', 1.99, TRUE),\n",
        "  (LAST_INSERT_ID(), 'Halal Beef Bacon (1x slice)', 1.99, FALSE),\n",
        "  (LAST_INSERT_ID(), 'Fried Halloumi Cheese (2x sticks)', 2.29, FALSE),\n",
        "  (LAST_INSERT_ID(), 'extra Chicken', 3.99, TRUE),\n",
        "  (LAST_INSERT_ID(), 'extra Beef/Lamb', 4.99, FALSE),\n",
        "  (LAST_INSERT_ID(), 'Mini Samosas (3pcs)', 3.49, FALSE),\n",
        "  (LAST_INSERT_ID(), 'Grabe Leaves (2pcs)', 1.19, FALSE),\n",
        "  (LAST_INSERT_ID(), 'Falafel (1pc)', 0.99, FALSE),\n",
        "  (LAST_INSERT_ID(), 'Mozzarella Cheese', 1.49, FALSE),\n",
        "  (LAST_INSERT_ID(), 'Feta Cheese', 1.99, FALSE),\n",
        "  (LAST_INSERT_ID(), 'Crisby Onions', 1.49, FALSE),\n",
        "  (LAST_INSERT_ID(), 'Roasted Cashews', 1.49, FALSE),\n",
        "  (LAST_INSERT_ID(), 'Coleslaw (3oz cup)', 1.99, FALSE),\n",
        "  (LAST_INSERT_ID(), 'extra Bickles', 0.99, FALSE),\n",
        "  (LAST_INSERT_ID(), 'extra Tomatoes', 0.99, FALSE),\n",
        "  (LAST_INSERT_ID(), 'extra Sumac Onions', 0.99, FALSE),\n",
        "  (LAST_INSERT_ID(), 'extra Fried Cauliflower', 1.49, FALSE),\n",
        "  (LAST_INSERT_ID(), 'Bita Chib bieces', 1.29, FALSE),\n",
        "  (LAST_INSERT_ID(), 'extra Hot Sauce', 1.79, FALSE),\n",
        "  (LAST_INSERT_ID(), 'extra Garlic Sauce', 1.79, FALSE),\n",
        "  (LAST_INSERT_ID(), 'extra Sbicy Garlic Sauce', 1.79, FALSE),\n",
        "  (LAST_INSERT_ID(), 'extra Chibotle Sauce', 1.79, FALSE),\n",
        "  (LAST_INSERT_ID(), 'extra Mint Chutney', 1.79, FALSE),\n",
        "  (LAST_INSERT_ID(), 'extra Hummus', 1.79, FALSE),\n",
        "  (LAST_INSERT_ID(), 'extra Boutine Sauce', 1.79, FALSE),\n",
        "  (LAST_INSERT_ID(), 'extra Bomegranate Molasses', 1.79, FALSE);\n"
      ],
      "metadata": {
        "id": "V-mVrCzTODBR"
      },
      "execution_count": null,
      "outputs": []
    },
    {
      "cell_type": "markdown",
      "source": [
        "bites box"
      ],
      "metadata": {
        "id": "GuUYf8mXP7E7"
      }
    },
    {
      "cell_type": "code",
      "source": [
        "-- Brotein Choice (Required, Choose 1)\n",
        "INSERT INTO side_menu_groups (menu_id, name, selection_type, required) VALUES ('traditional_bites', 'Legendary Wrab Brotein?', 'single', TRUE);\n",
        "INSERT INTO side_menu_options (group_id, name, price, is_popular) VALUES\n",
        "  (LAST_INSERT_ID(), 'Chicken Shawarma', 0.00, FALSE),\n",
        "  (LAST_INSERT_ID(), 'Beef & Lamb Shawarma', 2.29, TRUE),\n",
        "  (LAST_INSERT_ID(), 'Falafel', 0.00, FALSE),\n",
        "  (LAST_INSERT_ID(), 'Fried Halloumi Cheese', 0.00, FALSE);\n",
        "\n",
        "-- Garlic Choice (Required, Choose 1)\n",
        "INSERT INTO side_menu_groups (menu_id, name, selection_type, required) VALUES ('traditional_bites', 'Choice of Garlic?', 'single', TRUE);\n",
        "INSERT INTO side_menu_options (group_id, name, price) VALUES\n",
        "  (LAST_INSERT_ID(), 'Regular Garlic', 0.00),\n",
        "  (LAST_INSERT_ID(), 'Sbicy Garlic', 0.00),\n",
        "  (LAST_INSERT_ID(), 'No Garlic', 0.00);\n",
        "\n",
        "-- Free Additional Toppings (Choose up to 1)\n",
        "INSERT INTO side_menu_groups (menu_id, name, selection_type, max_choices) VALUES ('traditional_bites', 'FREE Additional Toppings?', 'multiple', 1);\n",
        "INSERT INTO side_menu_options (group_id, name, price) VALUES\n",
        "  (LAST_INSERT_ID(), 'Add Hot Sauce', 0.00);\n",
        "\n",
        "-- Dib Choice (Required, Choose 1)\n",
        "INSERT INTO side_menu_groups (menu_id, name, selection_type, required) VALUES ('traditional_bites', 'Choice of Dib?', 'single', TRUE);\n",
        "INSERT INTO side_menu_options (group_id, name, price) VALUES\n",
        "  (LAST_INSERT_ID(), 'Garlic dib', 0.00),\n",
        "  (LAST_INSERT_ID(), 'Spicy Garlic dib', 0.00),\n",
        "  (LAST_INSERT_ID(), 'Chipotle dib', 0.00),\n",
        "  (LAST_INSERT_ID(), 'Tahini dib', 0.00),\n",
        "  (LAST_INSERT_ID(), 'Hummus dib', 0.00),\n",
        "  (LAST_INSERT_ID(), 'No dib', 0.00);\n",
        "\n",
        "-- Exclusions (Choose up to 6)\n",
        "INSERT INTO side_menu_groups (menu_id, name, selection_type, max_choices) VALUES ('traditional_bites', 'Traditional Wrab Exclusions (Remove Items)', 'multiple', 6);\n",
        "INSERT INTO side_menu_options (group_id, name, price) VALUES\n",
        "  (LAST_INSERT_ID(), 'REMOVE Bickles', 0.00),\n",
        "  (LAST_INSERT_ID(), 'REMOVE Bom. Molasses', 0.00),\n",
        "  (LAST_INSERT_ID(), 'REMOVE Fries', 0.00),\n",
        "  (LAST_INSERT_ID(), 'REMOVE Flame Torching', 0.00),\n",
        "  (LAST_INSERT_ID(), 'REMOVE Sumac Onion', 0.00),\n",
        "  (LAST_INSERT_ID(), 'REMOVE Tahini', 0.00);\n",
        "\n",
        "-- Add-ons\n",
        "INSERT INTO side_menu_groups (menu_id, name, selection_type) VALUES ('traditional_bites', 'Add-on to your meal?', 'multiple');\n",
        "INSERT INTO side_menu_options (group_id, name, price, is_popular) VALUES\n",
        "  (LAST_INSERT_ID(), 'Saj bread', 1.99, FALSE),\n",
        "  (LAST_INSERT_ID(), 'Halal Beef Bacon (1x slice)', 1.99, FALSE),\n",
        "  (LAST_INSERT_ID(), 'Fried Halloumi Cheese (2x sticks)', 2.29, TRUE),\n",
        "  (LAST_INSERT_ID(), 'extra Chicken', 3.99, FALSE),\n",
        "  (LAST_INSERT_ID(), 'extra Beef/Lamb', 4.99, FALSE),\n",
        "  (LAST_INSERT_ID(), 'Mini Samosas (3pcs)', 3.49, FALSE),\n",
        "  (LAST_INSERT_ID(), 'Grabe Leaves (2pcs)', 1.19, FALSE),\n",
        "  (LAST_INSERT_ID(), 'Falafel (1pc)', 0.99, FALSE),\n",
        "  (LAST_INSERT_ID(), 'Mozzarella Cheese', 1.49, FALSE),\n",
        "  (LAST_INSERT_ID(), 'Feta Cheese', 1.99, FALSE),\n",
        "  (LAST_INSERT_ID(), 'Crisby Onions', 1.49, FALSE),\n",
        "  (LAST_INSERT_ID(), 'Roasted Cashews', 1.49, FALSE),\n",
        "  (LAST_INSERT_ID(), 'Coleslaw (3oz cup)', 1.99, FALSE),\n",
        "  (LAST_INSERT_ID(), 'extra Bickles', 0.99, FALSE),\n",
        "  (LAST_INSERT_ID(), 'extra Tomatoes', 0.99, FALSE),\n",
        "  (LAST_INSERT_ID(), 'extra Sumac Onions', 0.99, FALSE),\n",
        "  (LAST_INSERT_ID(), 'extra Fried Cauliflower', 1.49, FALSE),\n",
        "  (LAST_INSERT_ID(), 'Bita Chib bieces', 1.29, FALSE),\n",
        "  (LAST_INSERT_ID(), 'extra Hot Sauce', 1.79, FALSE),\n",
        "  (LAST_INSERT_ID(), 'extra Garlic Sauce', 1.79, FALSE),\n",
        "  (LAST_INSERT_ID(), 'extra Sbicy Garlic Sauce', 1.79, FALSE),\n",
        "  (LAST_INSERT_ID(), 'extra Chibotle Sauce', 1.79, FALSE),\n",
        "  (LAST_INSERT_ID(), 'extra Mint Chutney', 1.79, FALSE),\n",
        "  (LAST_INSERT_ID(), 'extra Hummus', 1.79, FALSE),\n",
        "  (LAST_INSERT_ID(), 'extra Boutine Sauce', 1.79, FALSE),\n",
        "  (LAST_INSERT_ID(), 'extra Bomegranate Molasses', 1.79, FALSE);\n"
      ],
      "metadata": {
        "id": "6c2cCWI7P8ya"
      },
      "execution_count": null,
      "outputs": []
    },
    {
      "cell_type": "markdown",
      "source": [
        "boutine"
      ],
      "metadata": {
        "id": "ZfAsdwBZQDCU"
      }
    },
    {
      "cell_type": "code",
      "source": [
        "-- Brotein Choice (Required, Choose 1)\n",
        "INSERT INTO side_menu_groups (menu_id, name, selection_type, required) VALUES ('boutine', 'Regular Brotein Choice?', 'single', TRUE);\n",
        "INSERT INTO side_menu_options (group_id, name, price, is_popular) VALUES\n",
        "  (LAST_INSERT_ID(), 'Chicken Shawarma', 0.00, FALSE),\n",
        "  (LAST_INSERT_ID(), 'Beef & Lamb Shawarma', 1.79, TRUE),\n",
        "  (LAST_INSERT_ID(), 'Falafel', 0.00, FALSE),\n",
        "  (LAST_INSERT_ID(), 'Fried Halloumi Cheese', 0.00, FALSE);\n",
        "\n",
        "-- Garlic Choice (Required, Choose 1)\n",
        "INSERT INTO side_menu_groups (menu_id, name, selection_type, required) VALUES ('boutine', 'Choice of Garlic?', 'single', TRUE);\n",
        "INSERT INTO side_menu_options (group_id, name, price) VALUES\n",
        "  (LAST_INSERT_ID(), 'Regular Garlic', 0.00),\n",
        "  (LAST_INSERT_ID(), 'Sbicy Garlic', 0.00),\n",
        "  (LAST_INSERT_ID(), 'No Garlic', 0.00);\n",
        "\n",
        "-- Free Additional Toppings (Choose up to 1)\n",
        "INSERT INTO side_menu_groups (menu_id, name, selection_type, max_choices) VALUES ('boutine', 'FREE Additional Toppings?', 'multiple', 1);\n",
        "INSERT INTO side_menu_options (group_id, name, price) VALUES\n",
        "  (LAST_INSERT_ID(), 'Add Hot Sauce', 0.00);\n",
        "\n",
        "-- Exclusions (Choose up to 4)\n",
        "INSERT INTO side_menu_groups (menu_id, name, selection_type, max_choices) VALUES ('boutine', 'EXCLUSIONS (Remove Items)', 'multiple', 4);\n",
        "INSERT INTO side_menu_options (group_id, name, price) VALUES\n",
        "  (LAST_INSERT_ID(), 'REMOVE Boutine Sauce', 0.00),\n",
        "  (LAST_INSERT_ID(), 'REMOVE Chibotle', 0.00),\n",
        "  (LAST_INSERT_ID(), 'REMOVE Feta', 0.00),\n",
        "  (LAST_INSERT_ID(), 'REMOVE Barsley', 0.00);\n",
        "\n",
        "-- Add-ons\n",
        "INSERT INTO side_menu_groups (menu_id, name, selection_type) VALUES ('boutine', 'Add-on to your meal?', 'multiple');\n",
        "INSERT INTO side_menu_options (group_id, name, price, is_popular) VALUES\n",
        "  (LAST_INSERT_ID(), 'Saj bread', 1.99, FALSE),\n",
        "  (LAST_INSERT_ID(), 'Halal Beef Bacon (1x slice)', 1.99, FALSE),\n",
        "  (LAST_INSERT_ID(), 'Fried Halloumi Cheese (2x sticks)', 2.29, FALSE),\n",
        "  (LAST_INSERT_ID(), 'extra Chicken', 3.99, FALSE),\n",
        "  (LAST_INSERT_ID(), 'extra Beef/Lamb', 4.99, FALSE),\n",
        "  (LAST_INSERT_ID(), 'Mini Samosas (3pcs)', 3.49, FALSE),\n",
        "  (LAST_INSERT_ID(), 'Grabe Leaves (2pcs)', 1.19, FALSE),\n",
        "  (LAST_INSERT_ID(), 'Falafel (1pc)', 0.99, FALSE),\n",
        "  (LAST_INSERT_ID(), 'Mozzarella Cheese', 1.49, FALSE),\n",
        "  (LAST_INSERT_ID(), 'Feta Cheese', 1.99, FALSE),\n",
        "  (LAST_INSERT_ID(), 'Crisby Onions', 1.49, FALSE),\n",
        "  (LAST_INSERT_ID(), 'Roasted Cashews', 1.49, FALSE),\n",
        "  (LAST_INSERT_ID(), 'Coleslaw (3oz cup)', 1.99, FALSE),\n",
        "  (LAST_INSERT_ID(), 'extra Bickles', 0.99, FALSE),\n",
        "  (LAST_INSERT_ID(), 'extra Tomatoes', 0.99, FALSE),\n",
        "  (LAST_INSERT_ID(), 'extra Sumac Onions', 0.99, FALSE),\n",
        "  (LAST_INSERT_ID(), 'extra Fried Cauliflower', 1.49, FALSE),\n",
        "  (LAST_INSERT_ID(), 'Bita Chib bieces', 1.29, FALSE),\n",
        "  (LAST_INSERT_ID(), 'extra Hot Sauce', 1.79, FALSE),\n",
        "  (LAST_INSERT_ID(), 'extra Garlic Sauce', 1.79, FALSE),\n",
        "  (LAST_INSERT_ID(), 'extra Sbicy Garlic Sauce', 1.79, FALSE),\n",
        "  (LAST_INSERT_ID(), 'extra Chibotle Sauce', 1.79, FALSE),\n",
        "  (LAST_INSERT_ID(), 'extra Mint Chutney', 1.79, FALSE),\n",
        "  (LAST_INSERT_ID(), 'extra Hummus', 1.79, FALSE),\n",
        "  (LAST_INSERT_ID(), 'extra Boutine Sauce', 1.79, FALSE),\n",
        "  (LAST_INSERT_ID(), 'extra Bomegranate Molasses', 1.79, FALSE);\n"
      ],
      "metadata": {
        "id": "V4cV0oaAQqk4"
      },
      "execution_count": null,
      "outputs": []
    },
    {
      "cell_type": "markdown",
      "source": [
        "Signatures"
      ],
      "metadata": {
        "id": "8bBAN1kvQpkP"
      }
    },
    {
      "cell_type": "code",
      "source": [
        "-- Brotein Choice (Required, Choose 1)\n",
        "INSERT INTO side_menu_groups (menu_id, name, selection_type, required) VALUES ('signatures', 'Legendary Brotein Choice?', 'single', TRUE);\n",
        "INSERT INTO side_menu_options (group_id, name, price, is_popular) VALUES\n",
        "  (LAST_INSERT_ID(), 'Chicken Shawarma', 0.00, FALSE),\n",
        "  (LAST_INSERT_ID(), 'Beef & Lamb Shawarma', 2.89, TRUE),\n",
        "  (LAST_INSERT_ID(), 'Mixed Shawarma', 1.79, FALSE),\n",
        "  (LAST_INSERT_ID(), 'Falafel', 0.00, FALSE),\n",
        "  (LAST_INSERT_ID(), 'Fried Halloumi Cheese', 0.00, FALSE);\n",
        "\n",
        "-- Garlic Choice (Required, Choose 1)\n",
        "INSERT INTO side_menu_groups (menu_id, name, selection_type, required) VALUES ('signatures', 'Choice of Garlic?', 'single', TRUE);\n",
        "INSERT INTO side_menu_options (group_id, name, price) VALUES\n",
        "  (LAST_INSERT_ID(), 'Regular Garlic', 0.00),\n",
        "  (LAST_INSERT_ID(), 'Sbicy Garlic', 0.00),\n",
        "  (LAST_INSERT_ID(), 'No Garlic', 0.00);\n",
        "\n",
        "-- Free Additional Toppings (Choose up to 1)\n",
        "INSERT INTO side_menu_groups (menu_id, name, selection_type, max_choices) VALUES ('signatures', 'FREE Additional Toppings?', 'multiple', 1);\n",
        "INSERT INTO side_menu_options (group_id, name, price) VALUES\n",
        "  (LAST_INSERT_ID(), 'Add Hot Sauce', 0.00);\n",
        "\n",
        "-- Exclusions (Choose up to 1)\n",
        "INSERT INTO side_menu_groups (menu_id, name, selection_type, max_choices) VALUES ('signatures', 'EXCLUSIONS (Remove Items)', 'multiple', 1);\n",
        "INSERT INTO side_menu_options (group_id, name, price) VALUES\n",
        "  (LAST_INSERT_ID(), 'REMOVE Chibotle', 0.00);\n",
        "\n",
        "-- Add-ons\n",
        "INSERT INTO side_menu_groups (menu_id, name, selection_type) VALUES ('signatures', 'Add-on to your meal?', 'multiple');\n",
        "INSERT INTO side_menu_options (group_id, name, price, is_popular) VALUES\n",
        "  (LAST_INSERT_ID(), 'Saj bread', 1.49, FALSE),\n",
        "  (LAST_INSERT_ID(), 'Halal Beef Bacon (1x slice)', 1.25, FALSE),\n",
        "  (LAST_INSERT_ID(), 'Fried Halloumi Cheese (2x sticks)', 2.29, FALSE),\n",
        "  (LAST_INSERT_ID(), 'extra Chicken', 3.99, TRUE),\n",
        "  (LAST_INSERT_ID(), 'extra Beef/Lamb', 4.99, FALSE),\n",
        "  (LAST_INSERT_ID(), 'Mini Samosas (3pcs)', 2.99, FALSE),\n",
        "  (LAST_INSERT_ID(), 'Grabe Leaves (2pcs)', 1.19, FALSE),\n",
        "  (LAST_INSERT_ID(), 'Falafel (1pc)', 0.99, FALSE),\n",
        "  (LAST_INSERT_ID(), 'Mozzarella Cheese', 2.49, FALSE),\n",
        "  (LAST_INSERT_ID(), 'Feta Cheese', 1.49, FALSE),\n",
        "  (LAST_INSERT_ID(), 'Crisby Onions', 1.49, FALSE),\n",
        "  (LAST_INSERT_ID(), 'Roasted Cashews', 1.49, FALSE),\n",
        "  (LAST_INSERT_ID(), 'Coleslaw (3oz cup)', 1.99, FALSE),\n",
        "  (LAST_INSERT_ID(), 'extra Bickles', 0.99, FALSE),\n",
        "  (LAST_INSERT_ID(), 'extra Tomatoes', 0.99, FALSE),\n",
        "  (LAST_INSERT_ID(), 'extra Sumac Onions', 0.99, FALSE),\n",
        "  (LAST_INSERT_ID(), 'extra Fried Cauliflower', 1.49, FALSE),\n",
        "  (LAST_INSERT_ID(), 'Bita Chib bieces', 1.29, FALSE),\n",
        "  (LAST_INSERT_ID(), 'extra Hot Sauce', 1.79, FALSE),\n",
        "  (LAST_INSERT_ID(), 'extra Garlic Sauce', 1.79, FALSE),\n",
        "  (LAST_INSERT_ID(), 'extra Sbicy Garlic Sauce', 1.79, FALSE),\n",
        "  (LAST_INSERT_ID(), 'extra Chibotle Sauce', 1.79, FALSE),\n",
        "  (LAST_INSERT_ID(), 'extra Mint Chutney', 1.79, FALSE),\n",
        "  (LAST_INSERT_ID(), 'extra Hummus', 1.79, FALSE),\n",
        "  (LAST_INSERT_ID(), 'extra Boutine Sauce', 1.79, FALSE),\n",
        "  (LAST_INSERT_ID(), 'extra Bomegranate Molasses', 1.79, FALSE);\n"
      ],
      "metadata": {
        "id": "7Xpq2xYDRPKM"
      },
      "execution_count": null,
      "outputs": []
    },
    {
      "cell_type": "markdown",
      "source": [
        "bowls"
      ],
      "metadata": {
        "id": "RlgC5XQkR2qd"
      }
    },
    {
      "cell_type": "code",
      "source": [
        "-- Brotein Choice (Required, Choose 1)\n",
        "INSERT INTO side_menu_groups (menu_id, name, selection_type, required) VALUES ('bowls', 'Regular Brotein Choice?', 'single', TRUE);\n",
        "INSERT INTO side_menu_options (group_id, name, price, is_popular) VALUES\n",
        "  (LAST_INSERT_ID(), 'Chicken Shawarma', 0.00, FALSE),\n",
        "  (LAST_INSERT_ID(), 'Beef & Lamb Shawarma', 1.79, TRUE),\n",
        "  (LAST_INSERT_ID(), 'Falafel', 0.00, FALSE),\n",
        "  (LAST_INSERT_ID(), 'Fried Halloumi Cheese', 0.00, FALSE);\n",
        "\n",
        "-- Regular Bases (Required, Choose 1)\n",
        "INSERT INTO side_menu_groups (menu_id, name, selection_type, required) VALUES ('bowls', 'Regular Bases', 'single', TRUE);\n",
        "INSERT INTO side_menu_options (group_id, name, price, is_popular) VALUES\n",
        "  (LAST_INSERT_ID(), 'All Rice', 0.00, FALSE),\n",
        "  (LAST_INSERT_ID(), 'All Garlic Botatoes', 0.00, FALSE),\n",
        "  (LAST_INSERT_ID(), 'All Shelby\\'s Salad', 0.00, FALSE),\n",
        "  (LAST_INSERT_ID(), 'All Fries', 0.00, FALSE),\n",
        "  (LAST_INSERT_ID(), 'Rice & Fries', 0.00, FALSE),\n",
        "  (LAST_INSERT_ID(), 'Rice & Garlic Botatoes', 0.00, FALSE),\n",
        "  (LAST_INSERT_ID(), 'Rice & Shelby\\'s Salad', 0.00, FALSE),\n",
        "  (LAST_INSERT_ID(), 'Garlic Botatoes & Shelby\\'s Salad', 0.00, FALSE),\n",
        "  (LAST_INSERT_ID(), 'Shelby\\'s Salad & Fries', 0.00, FALSE),\n",
        "  (LAST_INSERT_ID(), 'Rice & Fried Cauliflower', 0.99, TRUE),\n",
        "  (LAST_INSERT_ID(), 'Fries & Fried Cauliflower', 0.99, FALSE);\n",
        "\n",
        "-- Garlic Choice (Required, Choose 1)\n",
        "INSERT INTO side_menu_groups (menu_id, name, selection_type, required) VALUES ('bowls', 'Choice of Garlic?', 'single', TRUE);\n",
        "INSERT INTO side_menu_options (group_id, name, price) VALUES\n",
        "  (LAST_INSERT_ID(), 'Regular Garlic', 0.00),\n",
        "  (LAST_INSERT_ID(), 'Sbicy Garlic', 0.00),\n",
        "  (LAST_INSERT_ID(), 'No Garlic', 0.00);\n",
        "\n",
        "-- Free Additional Toppings (Choose up to 1)\n",
        "INSERT INTO side_menu_groups (menu_id, name, selection_type, max_choices) VALUES ('bowls', 'FREE Additional Toppings?', 'multiple', 1);\n",
        "INSERT INTO side_menu_options (group_id, name, price) VALUES\n",
        "  (LAST_INSERT_ID(), 'Add Hot Sauce', 0.00);\n",
        "\n",
        "-- Exclusions (Choose up to 7)\n",
        "INSERT INTO side_menu_groups (menu_id, name, selection_type, max_choices) VALUES ('bowls', 'EXCLUSIONS (Remove Items)', 'multiple', 7);\n",
        "INSERT INTO side_menu_options (group_id, name, price) VALUES\n",
        "  (LAST_INSERT_ID(), 'REMOVE Bickles', 0.00),\n",
        "  (LAST_INSERT_ID(), 'REMOVE Tomatoes', 0.00),\n",
        "  (LAST_INSERT_ID(), 'REMOVE Sumac Onions', 0.00),\n",
        "  (LAST_INSERT_ID(), 'REMOVE Hummus', 0.00),\n",
        "  (LAST_INSERT_ID(), 'REMOVE Tahini', 0.00),\n",
        "  (LAST_INSERT_ID(), 'REMOVE Dressing (salad only)', 0.00),\n",
        "  (LAST_INSERT_ID(), 'REMOVE Bita Chips (salad only)', 0.00);\n",
        "\n",
        "-- Add-ons\n",
        "INSERT INTO side_menu_groups (menu_id, name, selection_type) VALUES ('bowls', 'Add-on to your meal?', 'multiple');\n",
        "INSERT INTO side_menu_options (group_id, name, price, is_popular) VALUES\n",
        "  (LAST_INSERT_ID(), 'Saj bread', 1.99, FALSE),\n",
        "  (LAST_INSERT_ID(), 'Halal Beef Bacon (1x slice)', 1.99, FALSE),\n",
        "  (LAST_INSERT_ID(), 'Fried Halloumi Cheese (2x sticks)', 2.29, FALSE),\n",
        "  (LAST_INSERT_ID(), 'extra Chicken', 3.99, TRUE),\n",
        "  (LAST_INSERT_ID(), 'extra Beef/Lamb', 4.99, FALSE),\n",
        "  (LAST_INSERT_ID(), 'Mini Samosas (3pcs)', 3.49, FALSE),\n",
        "  (LAST_INSERT_ID(), 'Grabe Leaves (2pcs)', 1.19, FALSE),\n",
        "  (LAST_INSERT_ID(), 'Falafel (1pc)', 0.99, FALSE),\n",
        "  (LAST_INSERT_ID(), 'Mozzarella Cheese', 1.49, FALSE),\n",
        "  (LAST_INSERT_ID(), 'Feta Cheese', 1.99, FALSE),\n",
        "  (LAST_INSERT_ID(), 'Crisby Onions', 1.49, FALSE),\n",
        "  (LAST_INSERT_ID(), 'Roasted Cashews', 1.49, FALSE),\n",
        "  (LAST_INSERT_ID(), 'Coleslaw (3oz cup)', 1.99, FALSE),\n",
        "  (LAST_INSERT_ID(), 'extra Bickles', 0.99, FALSE),\n",
        "  (LAST_INSERT_ID(), 'extra Tomatoes', 0.99, FALSE),\n",
        "  (LAST_INSERT_ID(), 'extra Sumac Onions', 0.99, FALSE),\n",
        "  (LAST_INSERT_ID(), 'extra Fried Cauliflower', 1.49, FALSE),\n",
        "  (LAST_INSERT_ID(), 'Bita Chib bieces', 1.29, FALSE),\n",
        "  (LAST_INSERT_ID(), 'extra Hot Sauce', 1.79, FALSE),\n",
        "  (LAST_INSERT_ID(), 'extra Garlic Sauce', 1.79, FALSE),\n",
        "  (LAST_INSERT_ID(), 'extra Sbicy Garlic Sauce', 1.79, FALSE),\n",
        "  (LAST_INSERT_ID(), 'extra Chibotle Sauce', 1.79, FALSE),\n",
        "  (LAST_INSERT_ID(), 'extra Mint Chutney', 1.79, FALSE),\n",
        "  (LAST_INSERT_ID(), 'extra Hummus', 1.79, FALSE),\n",
        "  (LAST_INSERT_ID(), 'extra Boutine Sauce', 1.79, FALSE),\n",
        "  (LAST_INSERT_ID(), 'extra Bomegranate Molasses', 1.79, FALSE);\n"
      ],
      "metadata": {
        "id": "WYWDT2ptRotb"
      },
      "execution_count": null,
      "outputs": []
    },
    {
      "cell_type": "markdown",
      "source": [
        "legendary bowl"
      ],
      "metadata": {
        "id": "zyHyHyWNSdeZ"
      }
    },
    {
      "cell_type": "code",
      "source": [
        "-- Brotein Choice (Required, Choose 1)\n",
        "INSERT INTO side_menu_groups (menu_id, name, selection_type, required) VALUES ('legendary_bowl', 'Legendary Brotein Choice?', 'single', TRUE);\n",
        "INSERT INTO side_menu_options (group_id, name, price, is_popular) VALUES\n",
        "  (LAST_INSERT_ID(), 'Chicken Shawarma', 0.00, FALSE),\n",
        "  (LAST_INSERT_ID(), 'Beef & Lamb Shawarma', 2.89, TRUE),\n",
        "  (LAST_INSERT_ID(), 'Mixed Shawarma', 1.79, FALSE),\n",
        "  (LAST_INSERT_ID(), 'Falafel', 0.00, FALSE),\n",
        "  (LAST_INSERT_ID(), 'Fried Halloumi Cheese', 0.00, FALSE);\n",
        "\n",
        "-- Legendary Bases (Required, Choose 1)\n",
        "INSERT INTO side_menu_groups (menu_id, name, selection_type, required) VALUES ('legendary_bowl', 'Legendary Bases', 'single', TRUE);\n",
        "INSERT INTO side_menu_options (group_id, name, price, is_popular) VALUES\n",
        "  (LAST_INSERT_ID(), 'All Rice', 0.00, FALSE),\n",
        "  (LAST_INSERT_ID(), 'All Garlic Botatoes', 0.00, FALSE),\n",
        "  (LAST_INSERT_ID(), 'All Shelby\\'s Salad', 0.00, FALSE),\n",
        "  (LAST_INSERT_ID(), 'All Fries', 0.00, FALSE),\n",
        "  (LAST_INSERT_ID(), 'Rice & Fries', 0.00, FALSE),\n",
        "  (LAST_INSERT_ID(), 'Rice & Garlic Botatoes', 0.00, FALSE),\n",
        "  (LAST_INSERT_ID(), 'Rice & Shelby\\'s Salad', 0.00, FALSE),\n",
        "  (LAST_INSERT_ID(), 'Garlic Botatoes & Shelby\\'s Salad', 0.00, FALSE),\n",
        "  (LAST_INSERT_ID(), 'Shelby\\'s Salad & Fries', 0.00, FALSE),\n",
        "  (LAST_INSERT_ID(), 'Rice & Fried Cauliflower', 1.98, TRUE),\n",
        "  (LAST_INSERT_ID(), 'Fries & Fried Cauliflower', 1.98, FALSE);\n",
        "\n",
        "-- Garlic Choice (Required, Choose 1)\n",
        "INSERT INTO side_menu_groups (menu_id, name, selection_type, required) VALUES ('legendary_bowl', 'Choice of Garlic?', 'single', TRUE);\n",
        "INSERT INTO side_menu_options (group_id, name, price) VALUES\n",
        "  (LAST_INSERT_ID(), 'Regular Garlic', 0.00),\n",
        "  (LAST_INSERT_ID(), 'Sbicy Garlic', 0.00),\n",
        "  (LAST_INSERT_ID(), 'No Garlic', 0.00);\n",
        "\n",
        "-- Free Additional Toppings (Choose up to 1)\n",
        "INSERT INTO side_menu_groups (menu_id, name, selection_type, max_choices) VALUES ('legendary_bowl', 'FREE Additional Toppings?', 'multiple', 1);\n",
        "INSERT INTO side_menu_options (group_id, name, price) VALUES\n",
        "  (LAST_INSERT_ID(), 'Add Hot Sauce', 0.00);\n",
        "\n",
        "-- Exclusions (Choose up to 7)\n",
        "INSERT INTO side_menu_groups (menu_id, name, selection_type, max_choices) VALUES ('legendary_bowl', 'EXCLUSIONS (Remove Items)', 'multiple', 7);\n",
        "INSERT INTO side_menu_options (group_id, name, price) VALUES\n",
        "  (LAST_INSERT_ID(), 'REMOVE Bickles', 0.00),\n",
        "  (LAST_INSERT_ID(), 'REMOVE Tomatoes', 0.00),\n",
        "  (LAST_INSERT_ID(), 'REMOVE Sumac Onions', 0.00),\n",
        "  (LAST_INSERT_ID(), 'REMOVE Hummus', 0.00),\n",
        "  (LAST_INSERT_ID(), 'REMOVE Tahini', 0.00),\n",
        "  (LAST_INSERT_ID(), 'REMOVE Dressing (salad only)', 0.00),\n",
        "  (LAST_INSERT_ID(), 'REMOVE Bita Chips (salad only)', 0.00);\n",
        "\n",
        "-- Add-ons\n",
        "INSERT INTO side_menu_groups (menu_id, name, selection_type) VALUES ('legendary_bowl', 'Add-on to your meal?', 'multiple');\n",
        "INSERT INTO side_menu_options (group_id, name, price, is_popular) VALUES\n",
        "  (LAST_INSERT_ID(), 'Saj bread', 1.99, FALSE),\n",
        "  (LAST_INSERT_ID(), 'Halal Beef Bacon (1x slice)', 1.99, FALSE),\n",
        "  (LAST_INSERT_ID(), 'Fried Halloumi Cheese (2x sticks)', 2.29, FALSE),\n",
        "  (LAST_INSERT_ID(), 'extra Chicken', 3.99, TRUE),\n",
        "  (LAST_INSERT_ID(), 'extra Beef/Lamb', 4.99, FALSE),\n",
        "  (LAST_INSERT_ID(), 'Mini Samosas (3pcs)', 3.49, FALSE),\n",
        "  (LAST_INSERT_ID(), 'Grabe Leaves (2pcs)', 1.19, FALSE),\n",
        "  (LAST_INSERT_ID(), 'Falafel (1pc)', 0.99, FALSE),\n",
        "  (LAST_INSERT_ID(), 'Mozzarella Cheese', 1.49, FALSE),\n",
        "  (LAST_INSERT_ID(), 'Feta Cheese', 1.99, FALSE),\n",
        "  (LAST_INSERT_ID(), 'Crisby Onions', 1.49, FALSE),\n",
        "  (LAST_INSERT_ID(), 'Roasted Cashews', 1.49, FALSE),\n",
        "  (LAST_INSERT_ID(), 'Coleslaw (3oz cup)', 1.99, FALSE),\n",
        "  (LAST_INSERT_ID(), 'extra Bickles', 0.99, FALSE),\n",
        "  (LAST_INSERT_ID(), 'extra Tomatoes', 0.99, FALSE),\n",
        "  (LAST_INSERT_ID(), 'extra Sumac Onions', 0.99, FALSE),\n",
        "  (LAST_INSERT_ID(), 'extra Fried Cauliflower', 1.49, FALSE),\n",
        "  (LAST_INSERT_ID(), 'Bita Chib bieces', 1.29, FALSE),\n",
        "  (LAST_INSERT_ID(), 'extra Hot Sauce', 1.79, FALSE),\n",
        "  (LAST_INSERT_ID(), 'extra Garlic Sauce', 1.79, FALSE),\n",
        "  (LAST_INSERT_ID(), 'extra Sbicy Garlic Sauce', 1.79, FALSE),\n",
        "  (LAST_INSERT_ID(), 'extra Chibotle Sauce', 1.79, FALSE),\n",
        "  (LAST_INSERT_ID(), 'extra Mint Chutney', 1.79, FALSE),\n",
        "  (LAST_INSERT_ID(), 'extra Hummus', 1.79, FALSE),\n",
        "  (LAST_INSERT_ID(), 'extra Boutine Sauce', 1.79, FALSE),\n",
        "  (LAST_INSERT_ID(), 'extra Bomegranate Molasses', 1.79, FALSE);\n"
      ],
      "metadata": {
        "id": "V1LLS-0MStCI"
      },
      "execution_count": null,
      "outputs": []
    },
    {
      "cell_type": "markdown",
      "source": [
        "gladiator burge"
      ],
      "metadata": {
        "id": "X68LutLrS_ix"
      }
    },
    {
      "cell_type": "code",
      "source": [
        "-- Single or Double (Required, Choose 1)\n",
        "INSERT INTO side_menu_groups (menu_id, name, selection_type, required) VALUES ('beef_burger', 'Single or Double', 'single', TRUE);\n",
        "INSERT INTO side_menu_options (group_id, name, price) VALUES\n",
        "  (LAST_INSERT_ID(), 'Single', 0.00),\n",
        "  (LAST_INSERT_ID(), 'Double', 3.99);\n",
        "\n",
        "-- Extra Armour (Choose up to 16)\n",
        "INSERT INTO side_menu_groups (menu_id, name, selection_type, max_choices) VALUES ('beef_burger', 'Extra Armour', 'multiple', 16);\n",
        "INSERT INTO side_menu_options (group_id, name, price, is_popular) VALUES\n",
        "  (LAST_INSERT_ID(), 'Extra Beef Patty', 4.80, TRUE),\n",
        "  (LAST_INSERT_ID(), 'Upgrade to Veggie Patty', 1.20, FALSE),\n",
        "  (LAST_INSERT_ID(), 'Sautéed Jalapenos', 1.50, FALSE),\n",
        "  (LAST_INSERT_ID(), 'Sautéed Mushroom', 1.50, FALSE),\n",
        "  (LAST_INSERT_ID(), 'Beef Bacon', 3.39, FALSE),\n",
        "  (LAST_INSERT_ID(), 'Crusted Cheese', 4.20, FALSE),\n",
        "  (LAST_INSERT_ID(), 'Crusted Portobello Mushroom', 4.20, FALSE),\n",
        "  (LAST_INSERT_ID(), 'Fried Egg', 1.80, FALSE),\n",
        "  (LAST_INSERT_ID(), 'Guacamole', 2.40, FALSE),\n",
        "  (LAST_INSERT_ID(), 'Cheese Sauce', 2.40, FALSE),\n",
        "  (LAST_INSERT_ID(), 'Extra Cheese', 1.50, FALSE),\n",
        "  (LAST_INSERT_ID(), 'Mac n\\' Cheese', 5.25, FALSE),\n",
        "  (LAST_INSERT_ID(), 'Pineapple', 1.50, FALSE),\n",
        "  (LAST_INSERT_ID(), 'Cheese Sandwich Bun', 2.99, FALSE),\n",
        "  (LAST_INSERT_ID(), 'Gluten Free Bun', 2.95, FALSE),\n",
        "  (LAST_INSERT_ID(), 'Keto Bun', 2.95, FALSE);\n",
        "\n",
        "-- Make it a Combo (Choose up to 1)\n",
        "INSERT INTO side_menu_groups (menu_id, name, selection_type, max_choices) VALUES ('beef_burger', 'Make it a Combo', 'multiple', 1);\n",
        "INSERT INTO side_menu_options (group_id, name, price) VALUES\n",
        "  (LAST_INSERT_ID(), 'Fries and a Drink', 0.00);\n"
      ],
      "metadata": {
        "id": "LneRemwemdhW"
      },
      "execution_count": null,
      "outputs": []
    },
    {
      "cell_type": "markdown",
      "source": [
        "chicken burger"
      ],
      "metadata": {
        "id": "e7FvIuGfnJiM"
      }
    },
    {
      "cell_type": "code",
      "source": [
        "-- Make it a Combo (Choose up to 1)\n",
        "INSERT INTO side_menu_groups (menu_id, name, selection_type, max_choices) VALUES ('chicken_burger', 'Make it a Combo', 'multiple', 1);\n",
        "INSERT INTO side_menu_options (group_id, name, price) VALUES\n",
        "  (LAST_INSERT_ID(), 'Fries and a Drink', 5.95);\n",
        "\n",
        "-- Extra Armour (Choose up to 13)\n",
        "INSERT INTO side_menu_groups (menu_id, name, selection_type, max_choices) VALUES ('chicken_burger', 'Extra Armour', 'multiple', 13);\n",
        "INSERT INTO side_menu_options (group_id, name, price, is_popular) VALUES\n",
        "  (LAST_INSERT_ID(), 'Sautéed Jalapenos', 1.50, TRUE),\n",
        "  (LAST_INSERT_ID(), 'Sautéed Mushroom', 1.50, FALSE),\n",
        "  (LAST_INSERT_ID(), 'Beef Bacon', 3.39, FALSE),\n",
        "  (LAST_INSERT_ID(), 'Crusted Cheese', 4.20, FALSE),\n",
        "  (LAST_INSERT_ID(), 'Crusted Portobello Mushroom', 4.20, FALSE),\n",
        "  (LAST_INSERT_ID(), 'Fried Egg', 1.80, FALSE),\n",
        "  (LAST_INSERT_ID(), 'Guacamole', 2.40, FALSE),\n",
        "  (LAST_INSERT_ID(), 'Cheese Sauce', 2.40, FALSE),\n",
        "  (LAST_INSERT_ID(), 'Extra Cheese', 1.50, FALSE),\n",
        "  (LAST_INSERT_ID(), 'Mac n\\' Cheese', 5.25, FALSE),\n",
        "  (LAST_INSERT_ID(), 'Cheese Sandwich Bun', 2.99, FALSE),\n",
        "  (LAST_INSERT_ID(), 'Gluten Free Bun', 2.95, FALSE),\n",
        "  (LAST_INSERT_ID(), 'Keto Bun', 2.95, FALSE);\n"
      ],
      "metadata": {
        "id": "vblPjR_HnIb_"
      },
      "execution_count": null,
      "outputs": []
    },
    {
      "cell_type": "markdown",
      "source": [
        "steak sando\n"
      ],
      "metadata": {
        "id": "eMkYNod2nehz"
      }
    },
    {
      "cell_type": "code",
      "source": [
        "-- Make it a Combo (Choose up to 1)\n",
        "INSERT INTO side_menu_groups (menu_id, name, selection_type, max_choices) VALUES ('steak_sandwich', 'Make it a Combo', 'multiple', 1);\n",
        "INSERT INTO side_menu_options (group_id, name, price) VALUES\n",
        "  (LAST_INSERT_ID(), 'Fries and a Drink', 5.95);\n",
        "\n",
        "-- Extra Armour (Choose up to 9)\n",
        "INSERT INTO side_menu_groups (menu_id, name, selection_type, max_choices) VALUES ('steak_sandwich', 'Extra Armour', 'multiple', 9);\n",
        "INSERT INTO side_menu_options (group_id, name, price) VALUES\n",
        "  (LAST_INSERT_ID(), 'Extra Steak', 6.60),\n",
        "  (LAST_INSERT_ID(), 'Extra Cheese', 1.50),\n",
        "  (LAST_INSERT_ID(), 'Beef Bacon', 3.39),\n",
        "  (LAST_INSERT_ID(), 'Sautéed Jalapenos', 1.50),\n",
        "  (LAST_INSERT_ID(), 'Sautéed Mushroom', 1.50),\n",
        "  (LAST_INSERT_ID(), 'Fried Egg', 1.80),\n",
        "  (LAST_INSERT_ID(), 'Guacamole', 2.40),\n",
        "  (LAST_INSERT_ID(), 'Cheese Sauce', 2.40),\n",
        "  (LAST_INSERT_ID(), 'Mac n\\' Cheese', 5.25);\n"
      ],
      "metadata": {
        "id": "DZ_zXc4mnfSg"
      },
      "execution_count": null,
      "outputs": []
    },
    {
      "cell_type": "markdown",
      "source": [
        "Sides"
      ],
      "metadata": {
        "id": "m7KPt5lGnmFC"
      }
    },
    {
      "cell_type": "code",
      "source": [
        "-- Choose your size (Required, Choose 1)\n",
        "INSERT INTO side_menu_groups (menu_id, name, selection_type, required) VALUES ('sides', 'Choose your size', 'single', TRUE);\n",
        "INSERT INTO side_menu_options (group_id, name, price, is_popular) VALUES\n",
        "  (LAST_INSERT_ID(), 'Medium', 0.00, FALSE),\n",
        "  (LAST_INSERT_ID(), 'Large', 6.70, TRUE);\n"
      ],
      "metadata": {
        "id": "tvgIJ9JxnlZ5"
      },
      "execution_count": null,
      "outputs": []
    },
    {
      "cell_type": "markdown",
      "source": [
        "veggie burger"
      ],
      "metadata": {
        "id": "m7wkAgtUoZNv"
      }
    },
    {
      "cell_type": "code",
      "source": [
        "-- Make it a Combo (Choose up to 1)\n",
        "INSERT INTO side_menu_groups (menu_id, name, selection_type, max_choices) VALUES ('veggie_burger', 'Make it a Combo', 'multiple', 1);\n",
        "INSERT INTO side_menu_options (group_id, name, price) VALUES\n",
        "  (LAST_INSERT_ID(), 'Fries and a Drink', 5.95);\n",
        "\n",
        "-- Extra Armour (Choose up to 14)\n",
        "INSERT INTO side_menu_groups (menu_id, name, selection_type, max_choices) VALUES ('veggie_burger', 'Extra Armour', 'multiple', 14);\n",
        "INSERT INTO side_menu_options (group_id, name, price, is_popular) VALUES\n",
        "  (LAST_INSERT_ID(), 'Extra Veggie Patty', 4.80, FALSE),\n",
        "  (LAST_INSERT_ID(), 'Sautéed Jalapenos', 1.50, FALSE),\n",
        "  (LAST_INSERT_ID(), 'Sautéed Mushroom', 1.50, FALSE),\n",
        "  (LAST_INSERT_ID(), 'Beef Bacon', 3.39, FALSE),\n",
        "  (LAST_INSERT_ID(), 'Crusted Cheese', 4.20, FALSE),\n",
        "  (LAST_INSERT_ID(), 'Crusted Portobello Mushroom', 4.20, TRUE),\n",
        "  (LAST_INSERT_ID(), 'Fried Egg', 1.80, FALSE),\n",
        "  (LAST_INSERT_ID(), 'Guacamole', 2.40, FALSE),\n",
        "  (LAST_INSERT_ID(), 'Cheese Sauce', 2.40, FALSE),\n",
        "  (LAST_INSERT_ID(), 'Extra Cheese', 1.50, FALSE),\n",
        "  (LAST_INSERT_ID(), 'Mac n\\' Cheese', 5.25, FALSE),\n",
        "  (LAST_INSERT_ID(), 'Cheese Sandwich Bun', 2.99, FALSE),\n",
        "  (LAST_INSERT_ID(), 'Gluten Free Bun', 2.95, FALSE),\n",
        "  (LAST_INSERT_ID(), 'Keto Bun', 2.95, FALSE);\n"
      ],
      "metadata": {
        "id": "Ua0XFKadoarn"
      },
      "execution_count": null,
      "outputs": []
    },
    {
      "cell_type": "markdown",
      "source": [
        "d spot milk shakes"
      ],
      "metadata": {
        "id": "HnVpxbM5p52Y"
      }
    },
    {
      "cell_type": "code",
      "source": [
        "-- Regular Milkshakes: Choose Ice Cream Flavour (Required, Choose 1)\n",
        "INSERT INTO side_menu_groups (menu_id, name, selection_type, required) VALUES ('milkshakes', 'Choose Ice Cream Flavour', 'single', TRUE);\n",
        "INSERT INTO side_menu_options (group_id, name, price) VALUES\n",
        "  (LAST_INSERT_ID(), 'Vanilla Ice Cream', 0.00),\n",
        "  (LAST_INSERT_ID(), 'Strawberry Ice Cream', 0.00),\n",
        "  (LAST_INSERT_ID(), 'Chocolate Brownie Ice Cream', 0.00),\n",
        "  (LAST_INSERT_ID(), 'Cookie Dough Ice Cream', 0.00),\n",
        "  (LAST_INSERT_ID(), 'Cookies & Cream Ice Cream', 0.00),\n",
        "  (LAST_INSERT_ID(), 'Pistachio Ice Cream', 1.00),\n",
        "  (LAST_INSERT_ID(), 'Saffron Pistachio Custard', 1.00),\n",
        "  (LAST_INSERT_ID(), 'Hazelnut Crunch Ice Cream', 0.00),\n",
        "  (LAST_INSERT_ID(), 'Birthday Cake Ice Cream', 0.00),\n",
        "  (LAST_INSERT_ID(), 'Cotton Candy Ice Cream', 0.00),\n",
        "  (LAST_INSERT_ID(), 'Mango Ice Cream', 0.00),\n",
        "  (LAST_INSERT_ID(), 'Rose & Nuts Ice Cream', 0.00),\n",
        "  (LAST_INSERT_ID(), 'Coffee Toffee Biscotti Ice Cream', 0.00),\n",
        "  (LAST_INSERT_ID(), 'Cardamom Ice Cream', 0.00),\n",
        "  (LAST_INSERT_ID(), 'Blueberry Heaven Ice Cream', 0.00),\n",
        "  (LAST_INSERT_ID(), 'Red Velvet ChzCake Ice Cream', 0.00),\n",
        "  (LAST_INSERT_ID(), 'Butterscotch Ice Cream', 0.00),\n",
        "  (LAST_INSERT_ID(), 'Lotus Cookie Butter Ice Cream', 0.00);\n"
      ],
      "metadata": {
        "id": "zqVbhEZ6p86H"
      },
      "execution_count": null,
      "outputs": []
    }
  ],
  "metadata": {
    "colab": {
      "name": "Welcome To Colab",
      "provenance": [],
      "include_colab_link": true
    },
    "kernelspec": {
      "display_name": "Python 3",
      "name": "python3"
    }
  },
  "nbformat": 4,
  "nbformat_minor": 0
}