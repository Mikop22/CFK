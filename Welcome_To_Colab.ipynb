{
  "cells": [
    {
      "cell_type": "markdown",
      "metadata": {
        "id": "view-in-github",
        "colab_type": "text"
      },
      "source": [
        "<a href=\"https://colab.research.google.com/github/Mikop22/CFK/blob/main/Welcome_To_Colab.ipynb\" target=\"_parent\"><img src=\"https://colab.research.google.com/assets/colab-badge.svg\" alt=\"Open In Colab\"/></a>"
      ]
    },
    {
      "cell_type": "markdown",
      "source": [
        "shelby"
      ],
      "metadata": {
        "id": "_DaydiHFM4My"
      }
    },
    {
      "cell_type": "markdown",
      "source": [
        "traditional, legendary traditional, bites"
      ],
      "metadata": {
        "id": "QsDgXKctPSLA"
      }
    },
    {
      "cell_type": "code",
      "source": [
        "-- Brotein Choice (Required, Choose 1)\n",
        "INSERT INTO side_menu_groups (menu_id, name, selection_type, required) VALUES ('tradition_wrap_id', 'Regular Wrab Brotein?', 'single', TRUE);\n",
        "INSERT INTO side_menu_options (group_id, name, price, is_popular) VALUES\n",
        "  (LAST_INSERT_ID(), 'Beef & Lamb Shawarma', 2.29, TRUE),\n",
        "  (LAST_INSERT_ID(), 'Falafel', 0.00, FALSE),\n",
        "  (LAST_INSERT_ID(), 'Fried Halloumi Cheese', 0.00, FALSE);\n",
        "\n",
        "-- Garlic Choice (Required, Choose 1)\n",
        "INSERT INTO side_menu_groups (menu_id, name, selection_type, required) VALUES ('tradition_wrap_id', 'Choice of Garlic?', 'single', TRUE);\n",
        "INSERT INTO side_menu_options (group_id, name, price) VALUES\n",
        "  (LAST_INSERT_ID(), 'Regular Garlic', 0.00),\n",
        "  (LAST_INSERT_ID(), 'Sbicy Garlic', 0.00),\n",
        "  (LAST_INSERT_ID(), 'No Garlic', 0.00);\n",
        "\n",
        "-- Free Additional Toppings (Choose up to 1)\n",
        "INSERT INTO side_menu_groups (menu_id, name, selection_type, max_choices) VALUES ('tradition_wrap_id', 'FREE Additional Toppings?', 'multiple', 1);\n",
        "INSERT INTO side_menu_options (group_id, name, price) VALUES\n",
        "  (LAST_INSERT_ID(), 'Add Hot Sauce', 0.00);\n",
        "\n",
        "-- Exclusions (Choose up to 6)\n",
        "INSERT INTO side_menu_groups (menu_id, name, selection_type, max_choices) VALUES ('tradition_wrap_id', 'Traditional Wrab Exclusions (Remove Items)', 'multiple', 6);\n",
        "INSERT INTO side_menu_options (group_id, name, price) VALUES\n",
        "  (LAST_INSERT_ID(), 'REMOVE Bickles', 0.00),\n",
        "  (LAST_INSERT_ID(), 'REMOVE Bom. Molasses', 0.00),\n",
        "  (LAST_INSERT_ID(), 'REMOVE Fries', 0.00),\n",
        "  (LAST_INSERT_ID(), 'REMOVE Flame Torching', 0.00),\n",
        "  (LAST_INSERT_ID(), 'REMOVE Sumac Onion', 0.00),\n",
        "  (LAST_INSERT_ID(), 'REMOVE Tahini', 0.00);\n",
        "\n",
        "-- Add-ons\n",
        "INSERT INTO side_menu_groups (menu_id, name, selection_type) VALUES ('tradition_wrap_id', 'Add-on to your meal?', 'multiple');\n",
        "INSERT INTO side_menu_options (group_id, name, price, is_popular) VALUES\n",
        "  (LAST_INSERT_ID(), 'Saj bread', 1.99, TRUE),\n",
        "  (LAST_INSERT_ID(), 'Halal Beef Bacon (1x slice)', 1.99, FALSE),\n",
        "  (LAST_INSERT_ID(), 'Fried Halloumi Cheese (2x sticks)', 2.29, FALSE),\n",
        "  (LAST_INSERT_ID(), 'extra Chicken', 3.99, TRUE),\n",
        "  (LAST_INSERT_ID(), 'extra Beef/Lamb', 4.99, FALSE),\n",
        "  (LAST_INSERT_ID(), 'Mini Samosas (3pcs)', 3.49, FALSE),\n",
        "  (LAST_INSERT_ID(), 'Grabe Leaves (2pcs)', 1.19, FALSE),\n",
        "  (LAST_INSERT_ID(), 'Falafel (1pc)', 0.99, FALSE),\n",
        "  (LAST_INSERT_ID(), 'Mozzarella Cheese', 1.49, FALSE),\n",
        "  (LAST_INSERT_ID(), 'Feta Cheese', 1.99, FALSE),\n",
        "  (LAST_INSERT_ID(), 'Crisby Onions', 1.49, FALSE),\n",
        "  (LAST_INSERT_ID(), 'Roasted Cashews', 1.49, FALSE),\n",
        "  (LAST_INSERT_ID(), 'Coleslaw (3oz cup)', 1.99, FALSE),\n",
        "  (LAST_INSERT_ID(), 'extra Bickles', 0.99, FALSE),\n",
        "  (LAST_INSERT_ID(), 'extra Tomatoes', 0.99, FALSE),\n",
        "  (LAST_INSERT_ID(), 'extra Sumac Onions', 0.99, FALSE),\n",
        "  (LAST_INSERT_ID(), 'extra Fried Cauliflower', 1.49, FALSE),\n",
        "  (LAST_INSERT_ID(), 'Bita Chib bieces', 1.29, FALSE),\n",
        "  (LAST_INSERT_ID(), 'extra Hot Sauce', 1.79, FALSE),\n",
        "  (LAST_INSERT_ID(), 'extra Garlic Sauce', 1.79, FALSE),\n",
        "  (LAST_INSERT_ID(), 'extra Sbicy Garlic Sauce', 1.79, FALSE),\n",
        "  (LAST_INSERT_ID(), 'extra Chibotle Sauce', 1.79, FALSE),\n",
        "  (LAST_INSERT_ID(), 'extra Mint Chutney', 1.79, FALSE),\n",
        "  (LAST_INSERT_ID(), 'extra Hummus', 1.79, FALSE),\n",
        "  (LAST_INSERT_ID(), 'extra Boutine Sauce', 1.79, FALSE),\n",
        "  (LAST_INSERT_ID(), 'extra Bomegranate Molasses', 1.79, FALSE);\n"
      ],
      "metadata": {
        "id": "V-mVrCzTODBR"
      },
      "execution_count": null,
      "outputs": []
    },
    {
      "cell_type": "markdown",
      "source": [
        "bites box"
      ],
      "metadata": {
        "id": "GuUYf8mXP7E7"
      }
    },
    {
      "cell_type": "code",
      "source": [
        "-- Brotein Choice (Required, Choose 1)\n",
        "INSERT INTO side_menu_groups (menu_id, name, selection_type, required) VALUES ('traditional_bites', 'Legendary Wrab Brotein?', 'single', TRUE);\n",
        "INSERT INTO side_menu_options (group_id, name, price, is_popular) VALUES\n",
        "  (LAST_INSERT_ID(), 'Chicken Shawarma', 0.00, FALSE),\n",
        "  (LAST_INSERT_ID(), 'Beef & Lamb Shawarma', 2.29, TRUE),\n",
        "  (LAST_INSERT_ID(), 'Falafel', 0.00, FALSE),\n",
        "  (LAST_INSERT_ID(), 'Fried Halloumi Cheese', 0.00, FALSE);\n",
        "\n",
        "-- Garlic Choice (Required, Choose 1)\n",
        "INSERT INTO side_menu_groups (menu_id, name, selection_type, required) VALUES ('traditional_bites', 'Choice of Garlic?', 'single', TRUE);\n",
        "INSERT INTO side_menu_options (group_id, name, price) VALUES\n",
        "  (LAST_INSERT_ID(), 'Regular Garlic', 0.00),\n",
        "  (LAST_INSERT_ID(), 'Sbicy Garlic', 0.00),\n",
        "  (LAST_INSERT_ID(), 'No Garlic', 0.00);\n",
        "\n",
        "-- Free Additional Toppings (Choose up to 1)\n",
        "INSERT INTO side_menu_groups (menu_id, name, selection_type, max_choices) VALUES ('traditional_bites', 'FREE Additional Toppings?', 'multiple', 1);\n",
        "INSERT INTO side_menu_options (group_id, name, price) VALUES\n",
        "  (LAST_INSERT_ID(), 'Add Hot Sauce', 0.00);\n",
        "\n",
        "-- Dib Choice (Required, Choose 1)\n",
        "INSERT INTO side_menu_groups (menu_id, name, selection_type, required) VALUES ('traditional_bites', 'Choice of Dib?', 'single', TRUE);\n",
        "INSERT INTO side_menu_options (group_id, name, price) VALUES\n",
        "  (LAST_INSERT_ID(), 'Garlic dib', 0.00),\n",
        "  (LAST_INSERT_ID(), 'Spicy Garlic dib', 0.00),\n",
        "  (LAST_INSERT_ID(), 'Chipotle dib', 0.00),\n",
        "  (LAST_INSERT_ID(), 'Tahini dib', 0.00),\n",
        "  (LAST_INSERT_ID(), 'Hummus dib', 0.00),\n",
        "  (LAST_INSERT_ID(), 'No dib', 0.00);\n",
        "\n",
        "-- Exclusions (Choose up to 6)\n",
        "INSERT INTO side_menu_groups (menu_id, name, selection_type, max_choices) VALUES ('traditional_bites', 'Traditional Wrab Exclusions (Remove Items)', 'multiple', 6);\n",
        "INSERT INTO side_menu_options (group_id, name, price) VALUES\n",
        "  (LAST_INSERT_ID(), 'REMOVE Bickles', 0.00),\n",
        "  (LAST_INSERT_ID(), 'REMOVE Bom. Molasses', 0.00),\n",
        "  (LAST_INSERT_ID(), 'REMOVE Fries', 0.00),\n",
        "  (LAST_INSERT_ID(), 'REMOVE Flame Torching', 0.00),\n",
        "  (LAST_INSERT_ID(), 'REMOVE Sumac Onion', 0.00),\n",
        "  (LAST_INSERT_ID(), 'REMOVE Tahini', 0.00);\n",
        "\n",
        "-- Add-ons\n",
        "INSERT INTO side_menu_groups (menu_id, name, selection_type) VALUES ('traditional_bites', 'Add-on to your meal?', 'multiple');\n",
        "INSERT INTO side_menu_options (group_id, name, price, is_popular) VALUES\n",
        "  (LAST_INSERT_ID(), 'Saj bread', 1.99, FALSE),\n",
        "  (LAST_INSERT_ID(), 'Halal Beef Bacon (1x slice)', 1.99, FALSE),\n",
        "  (LAST_INSERT_ID(), 'Fried Halloumi Cheese (2x sticks)', 2.29, TRUE),\n",
        "  (LAST_INSERT_ID(), 'extra Chicken', 3.99, FALSE),\n",
        "  (LAST_INSERT_ID(), 'extra Beef/Lamb', 4.99, FALSE),\n",
        "  (LAST_INSERT_ID(), 'Mini Samosas (3pcs)', 3.49, FALSE),\n",
        "  (LAST_INSERT_ID(), 'Grabe Leaves (2pcs)', 1.19, FALSE),\n",
        "  (LAST_INSERT_ID(), 'Falafel (1pc)', 0.99, FALSE),\n",
        "  (LAST_INSERT_ID(), 'Mozzarella Cheese', 1.49, FALSE),\n",
        "  (LAST_INSERT_ID(), 'Feta Cheese', 1.99, FALSE),\n",
        "  (LAST_INSERT_ID(), 'Crisby Onions', 1.49, FALSE),\n",
        "  (LAST_INSERT_ID(), 'Roasted Cashews', 1.49, FALSE),\n",
        "  (LAST_INSERT_ID(), 'Coleslaw (3oz cup)', 1.99, FALSE),\n",
        "  (LAST_INSERT_ID(), 'extra Bickles', 0.99, FALSE),\n",
        "  (LAST_INSERT_ID(), 'extra Tomatoes', 0.99, FALSE),\n",
        "  (LAST_INSERT_ID(), 'extra Sumac Onions', 0.99, FALSE),\n",
        "  (LAST_INSERT_ID(), 'extra Fried Cauliflower', 1.49, FALSE),\n",
        "  (LAST_INSERT_ID(), 'Bita Chib bieces', 1.29, FALSE),\n",
        "  (LAST_INSERT_ID(), 'extra Hot Sauce', 1.79, FALSE),\n",
        "  (LAST_INSERT_ID(), 'extra Garlic Sauce', 1.79, FALSE),\n",
        "  (LAST_INSERT_ID(), 'extra Sbicy Garlic Sauce', 1.79, FALSE),\n",
        "  (LAST_INSERT_ID(), 'extra Chibotle Sauce', 1.79, FALSE),\n",
        "  (LAST_INSERT_ID(), 'extra Mint Chutney', 1.79, FALSE),\n",
        "  (LAST_INSERT_ID(), 'extra Hummus', 1.79, FALSE),\n",
        "  (LAST_INSERT_ID(), 'extra Boutine Sauce', 1.79, FALSE),\n",
        "  (LAST_INSERT_ID(), 'extra Bomegranate Molasses', 1.79, FALSE);\n"
      ],
      "metadata": {
        "id": "6c2cCWI7P8ya"
      },
      "execution_count": null,
      "outputs": []
    },
    {
      "cell_type": "markdown",
      "source": [
        "boutine"
      ],
      "metadata": {
        "id": "ZfAsdwBZQDCU"
      }
    },
    {
      "cell_type": "code",
      "source": [
        "-- Brotein Choice (Required, Choose 1)\n",
        "INSERT INTO side_menu_groups (menu_id, name, selection_type, required) VALUES ('boutine', 'Regular Brotein Choice?', 'single', TRUE);\n",
        "INSERT INTO side_menu_options (group_id, name, price, is_popular) VALUES\n",
        "  (LAST_INSERT_ID(), 'Chicken Shawarma', 0.00, FALSE),\n",
        "  (LAST_INSERT_ID(), 'Beef & Lamb Shawarma', 1.79, TRUE),\n",
        "  (LAST_INSERT_ID(), 'Falafel', 0.00, FALSE),\n",
        "  (LAST_INSERT_ID(), 'Fried Halloumi Cheese', 0.00, FALSE);\n",
        "\n",
        "-- Garlic Choice (Required, Choose 1)\n",
        "INSERT INTO side_menu_groups (menu_id, name, selection_type, required) VALUES ('boutine', 'Choice of Garlic?', 'single', TRUE);\n",
        "INSERT INTO side_menu_options (group_id, name, price) VALUES\n",
        "  (LAST_INSERT_ID(), 'Regular Garlic', 0.00),\n",
        "  (LAST_INSERT_ID(), 'Sbicy Garlic', 0.00),\n",
        "  (LAST_INSERT_ID(), 'No Garlic', 0.00);\n",
        "\n",
        "-- Free Additional Toppings (Choose up to 1)\n",
        "INSERT INTO side_menu_groups (menu_id, name, selection_type, max_choices) VALUES ('boutine', 'FREE Additional Toppings?', 'multiple', 1);\n",
        "INSERT INTO side_menu_options (group_id, name, price) VALUES\n",
        "  (LAST_INSERT_ID(), 'Add Hot Sauce', 0.00);\n",
        "\n",
        "-- Exclusions (Choose up to 4)\n",
        "INSERT INTO side_menu_groups (menu_id, name, selection_type, max_choices) VALUES ('boutine', 'EXCLUSIONS (Remove Items)', 'multiple', 4);\n",
        "INSERT INTO side_menu_options (group_id, name, price) VALUES\n",
        "  (LAST_INSERT_ID(), 'REMOVE Boutine Sauce', 0.00),\n",
        "  (LAST_INSERT_ID(), 'REMOVE Chibotle', 0.00),\n",
        "  (LAST_INSERT_ID(), 'REMOVE Feta', 0.00),\n",
        "  (LAST_INSERT_ID(), 'REMOVE Barsley', 0.00);\n",
        "\n",
        "-- Add-ons\n",
        "INSERT INTO side_menu_groups (menu_id, name, selection_type) VALUES ('boutine', 'Add-on to your meal?', 'multiple');\n",
        "INSERT INTO side_menu_options (group_id, name, price, is_popular) VALUES\n",
        "  (LAST_INSERT_ID(), 'Saj bread', 1.99, FALSE),\n",
        "  (LAST_INSERT_ID(), 'Halal Beef Bacon (1x slice)', 1.99, FALSE),\n",
        "  (LAST_INSERT_ID(), 'Fried Halloumi Cheese (2x sticks)', 2.29, FALSE),\n",
        "  (LAST_INSERT_ID(), 'extra Chicken', 3.99, FALSE),\n",
        "  (LAST_INSERT_ID(), 'extra Beef/Lamb', 4.99, FALSE),\n",
        "  (LAST_INSERT_ID(), 'Mini Samosas (3pcs)', 3.49, FALSE),\n",
        "  (LAST_INSERT_ID(), 'Grabe Leaves (2pcs)', 1.19, FALSE),\n",
        "  (LAST_INSERT_ID(), 'Falafel (1pc)', 0.99, FALSE),\n",
        "  (LAST_INSERT_ID(), 'Mozzarella Cheese', 1.49, FALSE),\n",
        "  (LAST_INSERT_ID(), 'Feta Cheese', 1.99, FALSE),\n",
        "  (LAST_INSERT_ID(), 'Crisby Onions', 1.49, FALSE),\n",
        "  (LAST_INSERT_ID(), 'Roasted Cashews', 1.49, FALSE),\n",
        "  (LAST_INSERT_ID(), 'Coleslaw (3oz cup)', 1.99, FALSE),\n",
        "  (LAST_INSERT_ID(), 'extra Bickles', 0.99, FALSE),\n",
        "  (LAST_INSERT_ID(), 'extra Tomatoes', 0.99, FALSE),\n",
        "  (LAST_INSERT_ID(), 'extra Sumac Onions', 0.99, FALSE),\n",
        "  (LAST_INSERT_ID(), 'extra Fried Cauliflower', 1.49, FALSE),\n",
        "  (LAST_INSERT_ID(), 'Bita Chib bieces', 1.29, FALSE),\n",
        "  (LAST_INSERT_ID(), 'extra Hot Sauce', 1.79, FALSE),\n",
        "  (LAST_INSERT_ID(), 'extra Garlic Sauce', 1.79, FALSE),\n",
        "  (LAST_INSERT_ID(), 'extra Sbicy Garlic Sauce', 1.79, FALSE),\n",
        "  (LAST_INSERT_ID(), 'extra Chibotle Sauce', 1.79, FALSE),\n",
        "  (LAST_INSERT_ID(), 'extra Mint Chutney', 1.79, FALSE),\n",
        "  (LAST_INSERT_ID(), 'extra Hummus', 1.79, FALSE),\n",
        "  (LAST_INSERT_ID(), 'extra Boutine Sauce', 1.79, FALSE),\n",
        "  (LAST_INSERT_ID(), 'extra Bomegranate Molasses', 1.79, FALSE);\n"
      ],
      "metadata": {
        "id": "V4cV0oaAQqk4"
      },
      "execution_count": null,
      "outputs": []
    },
    {
      "cell_type": "markdown",
      "source": [
        "Signatures"
      ],
      "metadata": {
        "id": "8bBAN1kvQpkP"
      }
    },
    {
      "cell_type": "code",
      "source": [
        "-- Brotein Choice (Required, Choose 1)\n",
        "INSERT INTO side_menu_groups (menu_id, name, selection_type, required) VALUES ('signatures', 'Legendary Brotein Choice?', 'single', TRUE);\n",
        "INSERT INTO side_menu_options (group_id, name, price, is_popular) VALUES\n",
        "  (LAST_INSERT_ID(), 'Chicken Shawarma', 0.00, FALSE),\n",
        "  (LAST_INSERT_ID(), 'Beef & Lamb Shawarma', 2.89, TRUE),\n",
        "  (LAST_INSERT_ID(), 'Mixed Shawarma', 1.79, FALSE),\n",
        "  (LAST_INSERT_ID(), 'Falafel', 0.00, FALSE),\n",
        "  (LAST_INSERT_ID(), 'Fried Halloumi Cheese', 0.00, FALSE);\n",
        "\n",
        "-- Garlic Choice (Required, Choose 1)\n",
        "INSERT INTO side_menu_groups (menu_id, name, selection_type, required) VALUES ('signatures', 'Choice of Garlic?', 'single', TRUE);\n",
        "INSERT INTO side_menu_options (group_id, name, price) VALUES\n",
        "  (LAST_INSERT_ID(), 'Regular Garlic', 0.00),\n",
        "  (LAST_INSERT_ID(), 'Sbicy Garlic', 0.00),\n",
        "  (LAST_INSERT_ID(), 'No Garlic', 0.00);\n",
        "\n",
        "-- Free Additional Toppings (Choose up to 1)\n",
        "INSERT INTO side_menu_groups (menu_id, name, selection_type, max_choices) VALUES ('signatures', 'FREE Additional Toppings?', 'multiple', 1);\n",
        "INSERT INTO side_menu_options (group_id, name, price) VALUES\n",
        "  (LAST_INSERT_ID(), 'Add Hot Sauce', 0.00);\n",
        "\n",
        "-- Exclusions (Choose up to 1)\n",
        "INSERT INTO side_menu_groups (menu_id, name, selection_type, max_choices) VALUES ('signatures', 'EXCLUSIONS (Remove Items)', 'multiple', 1);\n",
        "INSERT INTO side_menu_options (group_id, name, price) VALUES\n",
        "  (LAST_INSERT_ID(), 'REMOVE Chibotle', 0.00);\n",
        "\n",
        "-- Add-ons\n",
        "INSERT INTO side_menu_groups (menu_id, name, selection_type) VALUES ('signatures', 'Add-on to your meal?', 'multiple');\n",
        "INSERT INTO side_menu_options (group_id, name, price, is_popular) VALUES\n",
        "  (LAST_INSERT_ID(), 'Saj bread', 1.49, FALSE),\n",
        "  (LAST_INSERT_ID(), 'Halal Beef Bacon (1x slice)', 1.25, FALSE),\n",
        "  (LAST_INSERT_ID(), 'Fried Halloumi Cheese (2x sticks)', 2.29, FALSE),\n",
        "  (LAST_INSERT_ID(), 'extra Chicken', 3.99, TRUE),\n",
        "  (LAST_INSERT_ID(), 'extra Beef/Lamb', 4.99, FALSE),\n",
        "  (LAST_INSERT_ID(), 'Mini Samosas (3pcs)', 2.99, FALSE),\n",
        "  (LAST_INSERT_ID(), 'Grabe Leaves (2pcs)', 1.19, FALSE),\n",
        "  (LAST_INSERT_ID(), 'Falafel (1pc)', 0.99, FALSE),\n",
        "  (LAST_INSERT_ID(), 'Mozzarella Cheese', 2.49, FALSE),\n",
        "  (LAST_INSERT_ID(), 'Feta Cheese', 1.49, FALSE),\n",
        "  (LAST_INSERT_ID(), 'Crisby Onions', 1.49, FALSE),\n",
        "  (LAST_INSERT_ID(), 'Roasted Cashews', 1.49, FALSE),\n",
        "  (LAST_INSERT_ID(), 'Coleslaw (3oz cup)', 1.99, FALSE),\n",
        "  (LAST_INSERT_ID(), 'extra Bickles', 0.99, FALSE),\n",
        "  (LAST_INSERT_ID(), 'extra Tomatoes', 0.99, FALSE),\n",
        "  (LAST_INSERT_ID(), 'extra Sumac Onions', 0.99, FALSE),\n",
        "  (LAST_INSERT_ID(), 'extra Fried Cauliflower', 1.49, FALSE),\n",
        "  (LAST_INSERT_ID(), 'Bita Chib bieces', 1.29, FALSE),\n",
        "  (LAST_INSERT_ID(), 'extra Hot Sauce', 1.79, FALSE),\n",
        "  (LAST_INSERT_ID(), 'extra Garlic Sauce', 1.79, FALSE),\n",
        "  (LAST_INSERT_ID(), 'extra Sbicy Garlic Sauce', 1.79, FALSE),\n",
        "  (LAST_INSERT_ID(), 'extra Chibotle Sauce', 1.79, FALSE),\n",
        "  (LAST_INSERT_ID(), 'extra Mint Chutney', 1.79, FALSE),\n",
        "  (LAST_INSERT_ID(), 'extra Hummus', 1.79, FALSE),\n",
        "  (LAST_INSERT_ID(), 'extra Boutine Sauce', 1.79, FALSE),\n",
        "  (LAST_INSERT_ID(), 'extra Bomegranate Molasses', 1.79, FALSE);\n"
      ],
      "metadata": {
        "id": "7Xpq2xYDRPKM"
      },
      "execution_count": null,
      "outputs": []
    },
    {
      "cell_type": "markdown",
      "source": [
        "bowls"
      ],
      "metadata": {
        "id": "RlgC5XQkR2qd"
      }
    },
    {
      "cell_type": "code",
      "source": [
        "-- Brotein Choice (Required, Choose 1)\n",
        "INSERT INTO side_menu_groups (menu_id, name, selection_type, required) VALUES ('bowls', 'Regular Brotein Choice?', 'single', TRUE);\n",
        "INSERT INTO side_menu_options (group_id, name, price, is_popular) VALUES\n",
        "  (LAST_INSERT_ID(), 'Chicken Shawarma', 0.00, FALSE),\n",
        "  (LAST_INSERT_ID(), 'Beef & Lamb Shawarma', 1.79, TRUE),\n",
        "  (LAST_INSERT_ID(), 'Falafel', 0.00, FALSE),\n",
        "  (LAST_INSERT_ID(), 'Fried Halloumi Cheese', 0.00, FALSE);\n",
        "\n",
        "-- Regular Bases (Required, Choose 1)\n",
        "INSERT INTO side_menu_groups (menu_id, name, selection_type, required) VALUES ('bowls', 'Regular Bases', 'single', TRUE);\n",
        "INSERT INTO side_menu_options (group_id, name, price, is_popular) VALUES\n",
        "  (LAST_INSERT_ID(), 'All Rice', 0.00, FALSE),\n",
        "  (LAST_INSERT_ID(), 'All Garlic Botatoes', 0.00, FALSE),\n",
        "  (LAST_INSERT_ID(), 'All Shelby\\'s Salad', 0.00, FALSE),\n",
        "  (LAST_INSERT_ID(), 'All Fries', 0.00, FALSE),\n",
        "  (LAST_INSERT_ID(), 'Rice & Fries', 0.00, FALSE),\n",
        "  (LAST_INSERT_ID(), 'Rice & Garlic Botatoes', 0.00, FALSE),\n",
        "  (LAST_INSERT_ID(), 'Rice & Shelby\\'s Salad', 0.00, FALSE),\n",
        "  (LAST_INSERT_ID(), 'Garlic Botatoes & Shelby\\'s Salad', 0.00, FALSE),\n",
        "  (LAST_INSERT_ID(), 'Shelby\\'s Salad & Fries', 0.00, FALSE),\n",
        "  (LAST_INSERT_ID(), 'Rice & Fried Cauliflower', 0.99, TRUE),\n",
        "  (LAST_INSERT_ID(), 'Fries & Fried Cauliflower', 0.99, FALSE);\n",
        "\n",
        "-- Garlic Choice (Required, Choose 1)\n",
        "INSERT INTO side_menu_groups (menu_id, name, selection_type, required) VALUES ('bowls', 'Choice of Garlic?', 'single', TRUE);\n",
        "INSERT INTO side_menu_options (group_id, name, price) VALUES\n",
        "  (LAST_INSERT_ID(), 'Regular Garlic', 0.00),\n",
        "  (LAST_INSERT_ID(), 'Sbicy Garlic', 0.00),\n",
        "  (LAST_INSERT_ID(), 'No Garlic', 0.00);\n",
        "\n",
        "-- Free Additional Toppings (Choose up to 1)\n",
        "INSERT INTO side_menu_groups (menu_id, name, selection_type, max_choices) VALUES ('bowls', 'FREE Additional Toppings?', 'multiple', 1);\n",
        "INSERT INTO side_menu_options (group_id, name, price) VALUES\n",
        "  (LAST_INSERT_ID(), 'Add Hot Sauce', 0.00);\n",
        "\n",
        "-- Exclusions (Choose up to 7)\n",
        "INSERT INTO side_menu_groups (menu_id, name, selection_type, max_choices) VALUES ('bowls', 'EXCLUSIONS (Remove Items)', 'multiple', 7);\n",
        "INSERT INTO side_menu_options (group_id, name, price) VALUES\n",
        "  (LAST_INSERT_ID(), 'REMOVE Bickles', 0.00),\n",
        "  (LAST_INSERT_ID(), 'REMOVE Tomatoes', 0.00),\n",
        "  (LAST_INSERT_ID(), 'REMOVE Sumac Onions', 0.00),\n",
        "  (LAST_INSERT_ID(), 'REMOVE Hummus', 0.00),\n",
        "  (LAST_INSERT_ID(), 'REMOVE Tahini', 0.00),\n",
        "  (LAST_INSERT_ID(), 'REMOVE Dressing (salad only)', 0.00),\n",
        "  (LAST_INSERT_ID(), 'REMOVE Bita Chips (salad only)', 0.00);\n",
        "\n",
        "-- Add-ons\n",
        "INSERT INTO side_menu_groups (menu_id, name, selection_type) VALUES ('bowls', 'Add-on to your meal?', 'multiple');\n",
        "INSERT INTO side_menu_options (group_id, name, price, is_popular) VALUES\n",
        "  (LAST_INSERT_ID(), 'Saj bread', 1.99, FALSE),\n",
        "  (LAST_INSERT_ID(), 'Halal Beef Bacon (1x slice)', 1.99, FALSE),\n",
        "  (LAST_INSERT_ID(), 'Fried Halloumi Cheese (2x sticks)', 2.29, FALSE),\n",
        "  (LAST_INSERT_ID(), 'extra Chicken', 3.99, TRUE),\n",
        "  (LAST_INSERT_ID(), 'extra Beef/Lamb', 4.99, FALSE),\n",
        "  (LAST_INSERT_ID(), 'Mini Samosas (3pcs)', 3.49, FALSE),\n",
        "  (LAST_INSERT_ID(), 'Grabe Leaves (2pcs)', 1.19, FALSE),\n",
        "  (LAST_INSERT_ID(), 'Falafel (1pc)', 0.99, FALSE),\n",
        "  (LAST_INSERT_ID(), 'Mozzarella Cheese', 1.49, FALSE),\n",
        "  (LAST_INSERT_ID(), 'Feta Cheese', 1.99, FALSE),\n",
        "  (LAST_INSERT_ID(), 'Crisby Onions', 1.49, FALSE),\n",
        "  (LAST_INSERT_ID(), 'Roasted Cashews', 1.49, FALSE),\n",
        "  (LAST_INSERT_ID(), 'Coleslaw (3oz cup)', 1.99, FALSE),\n",
        "  (LAST_INSERT_ID(), 'extra Bickles', 0.99, FALSE),\n",
        "  (LAST_INSERT_ID(), 'extra Tomatoes', 0.99, FALSE),\n",
        "  (LAST_INSERT_ID(), 'extra Sumac Onions', 0.99, FALSE),\n",
        "  (LAST_INSERT_ID(), 'extra Fried Cauliflower', 1.49, FALSE),\n",
        "  (LAST_INSERT_ID(), 'Bita Chib bieces', 1.29, FALSE),\n",
        "  (LAST_INSERT_ID(), 'extra Hot Sauce', 1.79, FALSE),\n",
        "  (LAST_INSERT_ID(), 'extra Garlic Sauce', 1.79, FALSE),\n",
        "  (LAST_INSERT_ID(), 'extra Sbicy Garlic Sauce', 1.79, FALSE),\n",
        "  (LAST_INSERT_ID(), 'extra Chibotle Sauce', 1.79, FALSE),\n",
        "  (LAST_INSERT_ID(), 'extra Mint Chutney', 1.79, FALSE),\n",
        "  (LAST_INSERT_ID(), 'extra Hummus', 1.79, FALSE),\n",
        "  (LAST_INSERT_ID(), 'extra Boutine Sauce', 1.79, FALSE),\n",
        "  (LAST_INSERT_ID(), 'extra Bomegranate Molasses', 1.79, FALSE);\n"
      ],
      "metadata": {
        "id": "WYWDT2ptRotb"
      },
      "execution_count": null,
      "outputs": []
    },
    {
      "cell_type": "markdown",
      "source": [
        "legendary bowl"
      ],
      "metadata": {
        "id": "zyHyHyWNSdeZ"
      }
    },
    {
      "cell_type": "code",
      "source": [
        "-- Brotein Choice (Required, Choose 1)\n",
        "INSERT INTO side_menu_groups (menu_id, name, selection_type, required) VALUES ('legendary_bowl', 'Legendary Brotein Choice?', 'single', TRUE);\n",
        "INSERT INTO side_menu_options (group_id, name, price, is_popular) VALUES\n",
        "  (LAST_INSERT_ID(), 'Chicken Shawarma', 0.00, FALSE),\n",
        "  (LAST_INSERT_ID(), 'Beef & Lamb Shawarma', 2.89, TRUE),\n",
        "  (LAST_INSERT_ID(), 'Mixed Shawarma', 1.79, FALSE),\n",
        "  (LAST_INSERT_ID(), 'Falafel', 0.00, FALSE),\n",
        "  (LAST_INSERT_ID(), 'Fried Halloumi Cheese', 0.00, FALSE);\n",
        "\n",
        "-- Legendary Bases (Required, Choose 1)\n",
        "INSERT INTO side_menu_groups (menu_id, name, selection_type, required) VALUES ('legendary_bowl', 'Legendary Bases', 'single', TRUE);\n",
        "INSERT INTO side_menu_options (group_id, name, price, is_popular) VALUES\n",
        "  (LAST_INSERT_ID(), 'All Rice', 0.00, FALSE),\n",
        "  (LAST_INSERT_ID(), 'All Garlic Botatoes', 0.00, FALSE),\n",
        "  (LAST_INSERT_ID(), 'All Shelby\\'s Salad', 0.00, FALSE),\n",
        "  (LAST_INSERT_ID(), 'All Fries', 0.00, FALSE),\n",
        "  (LAST_INSERT_ID(), 'Rice & Fries', 0.00, FALSE),\n",
        "  (LAST_INSERT_ID(), 'Rice & Garlic Botatoes', 0.00, FALSE),\n",
        "  (LAST_INSERT_ID(), 'Rice & Shelby\\'s Salad', 0.00, FALSE),\n",
        "  (LAST_INSERT_ID(), 'Garlic Botatoes & Shelby\\'s Salad', 0.00, FALSE),\n",
        "  (LAST_INSERT_ID(), 'Shelby\\'s Salad & Fries', 0.00, FALSE),\n",
        "  (LAST_INSERT_ID(), 'Rice & Fried Cauliflower', 1.98, TRUE),\n",
        "  (LAST_INSERT_ID(), 'Fries & Fried Cauliflower', 1.98, FALSE);\n",
        "\n",
        "-- Garlic Choice (Required, Choose 1)\n",
        "INSERT INTO side_menu_groups (menu_id, name, selection_type, required) VALUES ('legendary_bowl', 'Choice of Garlic?', 'single', TRUE);\n",
        "INSERT INTO side_menu_options (group_id, name, price) VALUES\n",
        "  (LAST_INSERT_ID(), 'Regular Garlic', 0.00),\n",
        "  (LAST_INSERT_ID(), 'Sbicy Garlic', 0.00),\n",
        "  (LAST_INSERT_ID(), 'No Garlic', 0.00);\n",
        "\n",
        "-- Free Additional Toppings (Choose up to 1)\n",
        "INSERT INTO side_menu_groups (menu_id, name, selection_type, max_choices) VALUES ('legendary_bowl', 'FREE Additional Toppings?', 'multiple', 1);\n",
        "INSERT INTO side_menu_options (group_id, name, price) VALUES\n",
        "  (LAST_INSERT_ID(), 'Add Hot Sauce', 0.00);\n",
        "\n",
        "-- Exclusions (Choose up to 7)\n",
        "INSERT INTO side_menu_groups (menu_id, name, selection_type, max_choices) VALUES ('legendary_bowl', 'EXCLUSIONS (Remove Items)', 'multiple', 7);\n",
        "INSERT INTO side_menu_options (group_id, name, price) VALUES\n",
        "  (LAST_INSERT_ID(), 'REMOVE Bickles', 0.00),\n",
        "  (LAST_INSERT_ID(), 'REMOVE Tomatoes', 0.00),\n",
        "  (LAST_INSERT_ID(), 'REMOVE Sumac Onions', 0.00),\n",
        "  (LAST_INSERT_ID(), 'REMOVE Hummus', 0.00),\n",
        "  (LAST_INSERT_ID(), 'REMOVE Tahini', 0.00),\n",
        "  (LAST_INSERT_ID(), 'REMOVE Dressing (salad only)', 0.00),\n",
        "  (LAST_INSERT_ID(), 'REMOVE Bita Chips (salad only)', 0.00);\n",
        "\n",
        "-- Add-ons\n",
        "INSERT INTO side_menu_groups (menu_id, name, selection_type) VALUES ('legendary_bowl', 'Add-on to your meal?', 'multiple');\n",
        "INSERT INTO side_menu_options (group_id, name, price, is_popular) VALUES\n",
        "  (LAST_INSERT_ID(), 'Saj bread', 1.99, FALSE),\n",
        "  (LAST_INSERT_ID(), 'Halal Beef Bacon (1x slice)', 1.99, FALSE),\n",
        "  (LAST_INSERT_ID(), 'Fried Halloumi Cheese (2x sticks)', 2.29, FALSE),\n",
        "  (LAST_INSERT_ID(), 'extra Chicken', 3.99, TRUE),\n",
        "  (LAST_INSERT_ID(), 'extra Beef/Lamb', 4.99, FALSE),\n",
        "  (LAST_INSERT_ID(), 'Mini Samosas (3pcs)', 3.49, FALSE),\n",
        "  (LAST_INSERT_ID(), 'Grabe Leaves (2pcs)', 1.19, FALSE),\n",
        "  (LAST_INSERT_ID(), 'Falafel (1pc)', 0.99, FALSE),\n",
        "  (LAST_INSERT_ID(), 'Mozzarella Cheese', 1.49, FALSE),\n",
        "  (LAST_INSERT_ID(), 'Feta Cheese', 1.99, FALSE),\n",
        "  (LAST_INSERT_ID(), 'Crisby Onions', 1.49, FALSE),\n",
        "  (LAST_INSERT_ID(), 'Roasted Cashews', 1.49, FALSE),\n",
        "  (LAST_INSERT_ID(), 'Coleslaw (3oz cup)', 1.99, FALSE),\n",
        "  (LAST_INSERT_ID(), 'extra Bickles', 0.99, FALSE),\n",
        "  (LAST_INSERT_ID(), 'extra Tomatoes', 0.99, FALSE),\n",
        "  (LAST_INSERT_ID(), 'extra Sumac Onions', 0.99, FALSE),\n",
        "  (LAST_INSERT_ID(), 'extra Fried Cauliflower', 1.49, FALSE),\n",
        "  (LAST_INSERT_ID(), 'Bita Chib bieces', 1.29, FALSE),\n",
        "  (LAST_INSERT_ID(), 'extra Hot Sauce', 1.79, FALSE),\n",
        "  (LAST_INSERT_ID(), 'extra Garlic Sauce', 1.79, FALSE),\n",
        "  (LAST_INSERT_ID(), 'extra Sbicy Garlic Sauce', 1.79, FALSE),\n",
        "  (LAST_INSERT_ID(), 'extra Chibotle Sauce', 1.79, FALSE),\n",
        "  (LAST_INSERT_ID(), 'extra Mint Chutney', 1.79, FALSE),\n",
        "  (LAST_INSERT_ID(), 'extra Hummus', 1.79, FALSE),\n",
        "  (LAST_INSERT_ID(), 'extra Boutine Sauce', 1.79, FALSE),\n",
        "  (LAST_INSERT_ID(), 'extra Bomegranate Molasses', 1.79, FALSE);\n"
      ],
      "metadata": {
        "id": "V1LLS-0MStCI"
      },
      "execution_count": null,
      "outputs": []
    },
    {
      "cell_type": "markdown",
      "source": [
        "gladiator burge"
      ],
      "metadata": {
        "id": "X68LutLrS_ix"
      }
    },
    {
      "cell_type": "code",
      "source": [
        "-- Single or Double (Required, Choose 1)\n",
        "INSERT INTO side_menu_groups (menu_id, name, selection_type, required) VALUES ('beef_burger', 'Single or Double', 'single', TRUE);\n",
        "INSERT INTO side_menu_options (group_id, name, price) VALUES\n",
        "  (LAST_INSERT_ID(), 'Single', 0.00),\n",
        "  (LAST_INSERT_ID(), 'Double', 3.99);\n",
        "\n",
        "-- Extra Armour (Choose up to 16)\n",
        "INSERT INTO side_menu_groups (menu_id, name, selection_type, max_choices) VALUES ('beef_burger', 'Extra Armour', 'multiple', 16);\n",
        "INSERT INTO side_menu_options (group_id, name, price, is_popular) VALUES\n",
        "  (LAST_INSERT_ID(), 'Extra Beef Patty', 4.80, TRUE),\n",
        "  (LAST_INSERT_ID(), 'Upgrade to Veggie Patty', 1.20, FALSE),\n",
        "  (LAST_INSERT_ID(), 'Sautéed Jalapenos', 1.50, FALSE),\n",
        "  (LAST_INSERT_ID(), 'Sautéed Mushroom', 1.50, FALSE),\n",
        "  (LAST_INSERT_ID(), 'Beef Bacon', 3.39, FALSE),\n",
        "  (LAST_INSERT_ID(), 'Crusted Cheese', 4.20, FALSE),\n",
        "  (LAST_INSERT_ID(), 'Crusted Portobello Mushroom', 4.20, FALSE),\n",
        "  (LAST_INSERT_ID(), 'Fried Egg', 1.80, FALSE),\n",
        "  (LAST_INSERT_ID(), 'Guacamole', 2.40, FALSE),\n",
        "  (LAST_INSERT_ID(), 'Cheese Sauce', 2.40, FALSE),\n",
        "  (LAST_INSERT_ID(), 'Extra Cheese', 1.50, FALSE),\n",
        "  (LAST_INSERT_ID(), 'Mac n\\' Cheese', 5.25, FALSE),\n",
        "  (LAST_INSERT_ID(), 'Pineapple', 1.50, FALSE),\n",
        "  (LAST_INSERT_ID(), 'Cheese Sandwich Bun', 2.99, FALSE),\n",
        "  (LAST_INSERT_ID(), 'Gluten Free Bun', 2.95, FALSE),\n",
        "  (LAST_INSERT_ID(), 'Keto Bun', 2.95, FALSE);\n",
        "\n",
        "-- Make it a Combo (Choose up to 1)\n",
        "INSERT INTO side_menu_groups (menu_id, name, selection_type, max_choices) VALUES ('beef_burger', 'Make it a Combo', 'multiple', 1);\n",
        "INSERT INTO side_menu_options (group_id, name, price) VALUES\n",
        "  (LAST_INSERT_ID(), 'Fries and a Drink', 0.00);\n"
      ],
      "metadata": {
        "id": "LneRemwemdhW"
      },
      "execution_count": null,
      "outputs": []
    },
    {
      "cell_type": "markdown",
      "source": [
        "chicken burger"
      ],
      "metadata": {
        "id": "e7FvIuGfnJiM"
      }
    },
    {
      "cell_type": "code",
      "source": [
        "-- Make it a Combo (Choose up to 1)\n",
        "INSERT INTO side_menu_groups (menu_id, name, selection_type, max_choices) VALUES ('chicken_burger', 'Make it a Combo', 'multiple', 1);\n",
        "INSERT INTO side_menu_options (group_id, name, price) VALUES\n",
        "  (LAST_INSERT_ID(), 'Fries and a Drink', 5.95);\n",
        "\n",
        "-- Extra Armour (Choose up to 13)\n",
        "INSERT INTO side_menu_groups (menu_id, name, selection_type, max_choices) VALUES ('chicken_burger', 'Extra Armour', 'multiple', 13);\n",
        "INSERT INTO side_menu_options (group_id, name, price, is_popular) VALUES\n",
        "  (LAST_INSERT_ID(), 'Sautéed Jalapenos', 1.50, TRUE),\n",
        "  (LAST_INSERT_ID(), 'Sautéed Mushroom', 1.50, FALSE),\n",
        "  (LAST_INSERT_ID(), 'Beef Bacon', 3.39, FALSE),\n",
        "  (LAST_INSERT_ID(), 'Crusted Cheese', 4.20, FALSE),\n",
        "  (LAST_INSERT_ID(), 'Crusted Portobello Mushroom', 4.20, FALSE),\n",
        "  (LAST_INSERT_ID(), 'Fried Egg', 1.80, FALSE),\n",
        "  (LAST_INSERT_ID(), 'Guacamole', 2.40, FALSE),\n",
        "  (LAST_INSERT_ID(), 'Cheese Sauce', 2.40, FALSE),\n",
        "  (LAST_INSERT_ID(), 'Extra Cheese', 1.50, FALSE),\n",
        "  (LAST_INSERT_ID(), 'Mac n\\' Cheese', 5.25, FALSE),\n",
        "  (LAST_INSERT_ID(), 'Cheese Sandwich Bun', 2.99, FALSE),\n",
        "  (LAST_INSERT_ID(), 'Gluten Free Bun', 2.95, FALSE),\n",
        "  (LAST_INSERT_ID(), 'Keto Bun', 2.95, FALSE);\n"
      ],
      "metadata": {
        "id": "vblPjR_HnIb_"
      },
      "execution_count": null,
      "outputs": []
    },
    {
      "cell_type": "markdown",
      "source": [
        "steak sando\n"
      ],
      "metadata": {
        "id": "eMkYNod2nehz"
      }
    },
    {
      "cell_type": "code",
      "source": [
        "-- Make it a Combo (Choose up to 1)\n",
        "INSERT INTO side_menu_groups (menu_id, name, selection_type, max_choices) VALUES ('steak_sandwich', 'Make it a Combo', 'multiple', 1);\n",
        "INSERT INTO side_menu_options (group_id, name, price) VALUES\n",
        "  (LAST_INSERT_ID(), 'Fries and a Drink', 5.95);\n",
        "\n",
        "-- Extra Armour (Choose up to 9)\n",
        "INSERT INTO side_menu_groups (menu_id, name, selection_type, max_choices) VALUES ('steak_sandwich', 'Extra Armour', 'multiple', 9);\n",
        "INSERT INTO side_menu_options (group_id, name, price) VALUES\n",
        "  (LAST_INSERT_ID(), 'Extra Steak', 6.60),\n",
        "  (LAST_INSERT_ID(), 'Extra Cheese', 1.50),\n",
        "  (LAST_INSERT_ID(), 'Beef Bacon', 3.39),\n",
        "  (LAST_INSERT_ID(), 'Sautéed Jalapenos', 1.50),\n",
        "  (LAST_INSERT_ID(), 'Sautéed Mushroom', 1.50),\n",
        "  (LAST_INSERT_ID(), 'Fried Egg', 1.80),\n",
        "  (LAST_INSERT_ID(), 'Guacamole', 2.40),\n",
        "  (LAST_INSERT_ID(), 'Cheese Sauce', 2.40),\n",
        "  (LAST_INSERT_ID(), 'Mac n\\' Cheese', 5.25);\n"
      ],
      "metadata": {
        "id": "DZ_zXc4mnfSg"
      },
      "execution_count": null,
      "outputs": []
    },
    {
      "cell_type": "markdown",
      "source": [
        "Sides"
      ],
      "metadata": {
        "id": "m7KPt5lGnmFC"
      }
    },
    {
      "cell_type": "code",
      "source": [
        "-- Choose your size (Required, Choose 1)\n",
        "INSERT INTO side_menu_groups (menu_id, name, selection_type, required) VALUES ('sides', 'Choose your size', 'single', TRUE);\n",
        "INSERT INTO side_menu_options (group_id, name, price, is_popular) VALUES\n",
        "  (LAST_INSERT_ID(), 'Medium', 0.00, FALSE),\n",
        "  (LAST_INSERT_ID(), 'Large', 6.70, TRUE);\n"
      ],
      "metadata": {
        "id": "tvgIJ9JxnlZ5"
      },
      "execution_count": null,
      "outputs": []
    },
    {
      "cell_type": "markdown",
      "source": [
        "veggie burger"
      ],
      "metadata": {
        "id": "m7wkAgtUoZNv"
      }
    },
    {
      "cell_type": "code",
      "source": [
        "-- Make it a Combo (Choose up to 1)\n",
        "INSERT INTO side_menu_groups (menu_id, name, selection_type, max_choices) VALUES ('veggie_burger', 'Make it a Combo', 'multiple', 1);\n",
        "INSERT INTO side_menu_options (group_id, name, price) VALUES\n",
        "  (LAST_INSERT_ID(), 'Fries and a Drink', 5.95);\n",
        "\n",
        "-- Extra Armour (Choose up to 14)\n",
        "INSERT INTO side_menu_groups (menu_id, name, selection_type, max_choices) VALUES ('veggie_burger', 'Extra Armour', 'multiple', 14);\n",
        "INSERT INTO side_menu_options (group_id, name, price, is_popular) VALUES\n",
        "  (LAST_INSERT_ID(), 'Extra Veggie Patty', 4.80, FALSE),\n",
        "  (LAST_INSERT_ID(), 'Sautéed Jalapenos', 1.50, FALSE),\n",
        "  (LAST_INSERT_ID(), 'Sautéed Mushroom', 1.50, FALSE),\n",
        "  (LAST_INSERT_ID(), 'Beef Bacon', 3.39, FALSE),\n",
        "  (LAST_INSERT_ID(), 'Crusted Cheese', 4.20, FALSE),\n",
        "  (LAST_INSERT_ID(), 'Crusted Portobello Mushroom', 4.20, TRUE),\n",
        "  (LAST_INSERT_ID(), 'Fried Egg', 1.80, FALSE),\n",
        "  (LAST_INSERT_ID(), 'Guacamole', 2.40, FALSE),\n",
        "  (LAST_INSERT_ID(), 'Cheese Sauce', 2.40, FALSE),\n",
        "  (LAST_INSERT_ID(), 'Extra Cheese', 1.50, FALSE),\n",
        "  (LAST_INSERT_ID(), 'Mac n\\' Cheese', 5.25, FALSE),\n",
        "  (LAST_INSERT_ID(), 'Cheese Sandwich Bun', 2.99, FALSE),\n",
        "  (LAST_INSERT_ID(), 'Gluten Free Bun', 2.95, FALSE),\n",
        "  (LAST_INSERT_ID(), 'Keto Bun', 2.95, FALSE);\n"
      ],
      "metadata": {
        "id": "Ua0XFKadoarn"
      },
      "execution_count": null,
      "outputs": []
    },
    {
      "cell_type": "markdown",
      "source": [
        "d spot milk shakes"
      ],
      "metadata": {
        "id": "HnVpxbM5p52Y"
      }
    },
    {
      "cell_type": "code",
      "source": [
        "-- Regular Milkshakes: Choose Ice Cream Flavour (Required, Choose 1)\n",
        "INSERT INTO side_menu_groups (menu_id, name, selection_type, required) VALUES ('milkshakes', 'Choose Ice Cream Flavour', 'single', TRUE);\n",
        "INSERT INTO side_menu_options (group_id, name, price) VALUES\n",
        "  (LAST_INSERT_ID(), 'Vanilla Ice Cream', 0.00),\n",
        "  (LAST_INSERT_ID(), 'Strawberry Ice Cream', 0.00),\n",
        "  (LAST_INSERT_ID(), 'Chocolate Brownie Ice Cream', 0.00),\n",
        "  (LAST_INSERT_ID(), 'Cookie Dough Ice Cream', 0.00),\n",
        "  (LAST_INSERT_ID(), 'Cookies & Cream Ice Cream', 0.00),\n",
        "  (LAST_INSERT_ID(), 'Pistachio Ice Cream', 1.00),\n",
        "  (LAST_INSERT_ID(), 'Saffron Pistachio Custard', 1.00),\n",
        "  (LAST_INSERT_ID(), 'Hazelnut Crunch Ice Cream', 0.00),\n",
        "  (LAST_INSERT_ID(), 'Birthday Cake Ice Cream', 0.00),\n",
        "  (LAST_INSERT_ID(), 'Cotton Candy Ice Cream', 0.00),\n",
        "  (LAST_INSERT_ID(), 'Mango Ice Cream', 0.00),\n",
        "  (LAST_INSERT_ID(), 'Rose & Nuts Ice Cream', 0.00),\n",
        "  (LAST_INSERT_ID(), 'Coffee Toffee Biscotti Ice Cream', 0.00),\n",
        "  (LAST_INSERT_ID(), 'Cardamom Ice Cream', 0.00),\n",
        "  (LAST_INSERT_ID(), 'Blueberry Heaven Ice Cream', 0.00),\n",
        "  (LAST_INSERT_ID(), 'Red Velvet ChzCake Ice Cream', 0.00),\n",
        "  (LAST_INSERT_ID(), 'Butterscotch Ice Cream', 0.00),\n",
        "  (LAST_INSERT_ID(), 'Lotus Cookie Butter Ice Cream', 0.00);\n"
      ],
      "metadata": {
        "id": "zqVbhEZ6p86H"
      },
      "execution_count": null,
      "outputs": []
    },
    {
      "cell_type": "markdown",
      "source": [],
      "metadata": {
        "id": "O5C2-8nKqeXB"
      }
    },
    {
      "cell_type": "code",
      "source": [
        "casca"
      ],
      "metadata": {
        "id": "W6y7IUG-qeCA"
      },
      "execution_count": null,
      "outputs": []
    },
    {
      "cell_type": "markdown",
      "source": [
        "tacos"
      ],
      "metadata": {
        "id": "HQjlYs_xuKJp"
      }
    },
    {
      "cell_type": "code",
      "source": [
        "-- Choose Shell (Required, Choose 1)\n",
        "INSERT INTO side_menu_groups (menu_id, name, selection_type, required) VALUES ('tacos', 'Choose Shell', 'single', TRUE);\n",
        "INSERT INTO side_menu_options (group_id, name, price) VALUES\n",
        "  (LAST_INSERT_ID(), 'Hard Corn Shell', 0.00),\n",
        "  (LAST_INSERT_ID(), 'Soft Shell', 0.00),\n",
        "  (LAST_INSERT_ID(), 'Gluten Free Corn Tortilla', 0.00);\n",
        "\n",
        "-- Choose Beans (Required, Choose 1)\n",
        "INSERT INTO side_menu_groups (menu_id, name, selection_type, required) VALUES ('tacos', 'Choose Beans', 'single', TRUE);\n",
        "INSERT INTO side_menu_options (group_id, name, price) VALUES\n",
        "  (LAST_INSERT_ID(), 'Black Beans', 0.00),\n",
        "  (LAST_INSERT_ID(), 'Refried Beans', 0.00),\n",
        "  (LAST_INSERT_ID(), 'Refried and Black Beans', 0.00),\n",
        "  (LAST_INSERT_ID(), 'No Beans', 0.00);\n",
        "\n",
        "-- Choose Salsa (Required, Choose 1)\n",
        "INSERT INTO side_menu_groups (menu_id, name, selection_type, required) VALUES ('tacos', 'Choose Salsa', 'single', TRUE);\n",
        "INSERT INTO side_menu_options (group_id, name, price) VALUES\n",
        "  (LAST_INSERT_ID(), 'Mild Salsa', 0.00),\n",
        "  (LAST_INSERT_ID(), 'Tomatillo Salsa +', 0.00),\n",
        "  (LAST_INSERT_ID(), 'Volcano Salsa +++', 0.00),\n",
        "  (LAST_INSERT_ID(), 'No Salsa', 0.00);\n",
        "\n",
        "-- Choose Your Toppings (Required, Choose between 1 and 10)\n",
        "INSERT INTO side_menu_groups (menu_id, name, selection_type, required, min_choices, max_choices) VALUES ('tacos', 'Choose your toppings', 'multiple', TRUE, 1, 10);\n",
        "INSERT INTO side_menu_options (group_id, name, price, is_popular) VALUES\n",
        "  (LAST_INSERT_ID(), 'Cilantro Herb', 0.00, FALSE),\n",
        "  (LAST_INSERT_ID(), 'Peach & Cream Corn', 0.00, FALSE),\n",
        "  (LAST_INSERT_ID(), 'Fresca Tomato', 0.00, FALSE),\n",
        "  (LAST_INSERT_ID(), 'Jalapeno', 0.00, FALSE),\n",
        "  (LAST_INSERT_ID(), 'Green Onion', 0.00, FALSE),\n",
        "  (LAST_INSERT_ID(), 'Pickle Onion', 0.00, FALSE),\n",
        "  (LAST_INSERT_ID(), 'Red Onion', 0.00, FALSE),\n",
        "  (LAST_INSERT_ID(), 'Green Pepper', 0.00, FALSE),\n",
        "  (LAST_INSERT_ID(), 'Shredded Lettuce', 0.00, FALSE),\n",
        "  (LAST_INSERT_ID(), 'Monterey Jack Cheese', 0.00, FALSE),\n",
        "  (LAST_INSERT_ID(), 'Guacamole', 1.99, FALSE),\n",
        "  (LAST_INSERT_ID(), 'Queso Cheese', 2.99, TRUE),\n",
        "  (LAST_INSERT_ID(), 'Extra Cheese', 2.99, FALSE),\n",
        "  (LAST_INSERT_ID(), 'Mango Salsa', 0.99, FALSE),\n",
        "  (LAST_INSERT_ID(), 'Chick Peas', 0.99, FALSE);\n",
        "\n",
        "-- Choose Dressing (Required, Choose between 1 and 4)\n",
        "INSERT INTO side_menu_groups (menu_id, name, selection_type, required, min_choices, max_choices) VALUES ('tacos', 'Choose Dressing', 'multiple', TRUE, 1, 4);\n",
        "INSERT INTO side_menu_options (group_id, name, price) VALUES\n",
        "  (LAST_INSERT_ID(), 'Chipotle Dressing +', 0.00),\n",
        "  (LAST_INSERT_ID(), 'Paprika Mayo', 0.00),\n",
        "  (LAST_INSERT_ID(), 'Scotcch Hot Sauce +++', 0.00),\n",
        "  (LAST_INSERT_ID(), 'Cilantro-Lime', 0.00),\n",
        "  (LAST_INSERT_ID(), 'Creamy Garlic', 0.00),\n",
        "  (LAST_INSERT_ID(), 'Sour Cream', 0.00),\n",
        "  (LAST_INSERT_ID(), 'Burrito Sauce', 0.00),\n",
        "  (LAST_INSERT_ID(), 'Habanero Mayo ++', 0.00);\n",
        "\n",
        "-- Refreshing Drink (Choose up to 4)\n",
        "INSERT INTO side_menu_groups (menu_id, name, selection_type, max_choices) VALUES ('tacos', 'Refreshing Drink', 'multiple', 4);\n",
        "INSERT INTO side_menu_options (group_id, name, price) VALUES\n",
        "  (LAST_INSERT_ID(), 'Pepsi 591 ml', 4.99),\n",
        "  (LAST_INSERT_ID(), 'Diet Pepsi 591 ml', 4.99),\n",
        "  (LAST_INSERT_ID(), 'Ginger ale 591 ml', 4.99),\n",
        "  (LAST_INSERT_ID(), 'Crush Orange 591 ml', 4.99),\n",
        "  (LAST_INSERT_ID(), 'Mountain Dew 591 ml', 4.99),\n",
        "  (LAST_INSERT_ID(), 'Mango Jarritos Special', 4.99),\n",
        "  (LAST_INSERT_ID(), 'Mandarin Jarritos', 4.99),\n",
        "  (LAST_INSERT_ID(), 'Lime Jarritos Special', 4.99),\n",
        "  (LAST_INSERT_ID(), 'Pineapple Jarritos Special', 4.99),\n",
        "  (LAST_INSERT_ID(), 'Aquafina Water 591 ml', 2.99);\n"
      ],
      "metadata": {
        "id": "xXEPIYdAuGIR"
      },
      "execution_count": null,
      "outputs": []
    },
    {
      "cell_type": "markdown",
      "source": [
        "quessadillas"
      ],
      "metadata": {
        "id": "JGgOoqWBuMr4"
      }
    },
    {
      "cell_type": "code",
      "source": [
        "-- Choose Tortilla (Required, Choose 1)\n",
        "INSERT INTO side_menu_groups (menu_id, name, selection_type, required) VALUES ('quesadillas', 'Choose Tortilla', 'single', TRUE);\n",
        "INSERT INTO side_menu_options (group_id, name, price) VALUES\n",
        "  (LAST_INSERT_ID(), 'White Tortilla', 0.00),\n",
        "  (LAST_INSERT_ID(), 'Whole Wheat Tortilla', 0.00);\n",
        "\n",
        "-- Choose Beans (Required, Choose 1)\n",
        "INSERT INTO side_menu_groups (menu_id, name, selection_type, required) VALUES ('quesadillas', 'Choose Beans', 'single', TRUE);\n",
        "INSERT INTO side_menu_options (group_id, name, price) VALUES\n",
        "  (LAST_INSERT_ID(), 'Black Beans', 0.00),\n",
        "  (LAST_INSERT_ID(), 'Refried Beans', 0.00),\n",
        "  (LAST_INSERT_ID(), 'Refried and Black Beans', 0.00),\n",
        "  (LAST_INSERT_ID(), 'No Beans', 0.00);\n",
        "\n",
        "-- Choose Your Toppings (Required, Choose between 1 and 10)\n",
        "INSERT INTO side_menu_groups (menu_id, name, selection_type, required, min_choices, max_choices) VALUES ('quesadillas', 'Choose your toppings', 'multiple', TRUE, 1, 10);\n",
        "INSERT INTO side_menu_options (group_id, name, price, is_popular) VALUES\n",
        "  (LAST_INSERT_ID(), 'Cilantro Herb', 0.00, FALSE),\n",
        "  (LAST_INSERT_ID(), 'Peach & Cream Corn', 0.00, FALSE),\n",
        "  (LAST_INSERT_ID(), 'Fresca Tomato', 0.00, FALSE),\n",
        "  (LAST_INSERT_ID(), 'Jalapeno', 0.00, FALSE),\n",
        "  (LAST_INSERT_ID(), 'Green Onion', 0.00, FALSE),\n",
        "  (LAST_INSERT_ID(), 'Pickle Onion', 0.00, FALSE),\n",
        "  (LAST_INSERT_ID(), 'Red Onion', 0.00, FALSE),\n",
        "  (LAST_INSERT_ID(), 'Green Pepper', 0.00, FALSE),\n",
        "  (LAST_INSERT_ID(), 'Shredded Lettuce', 0.00, FALSE),\n",
        "  (LAST_INSERT_ID(), 'Monterey Jack Cheese', 0.00, FALSE),\n",
        "  (LAST_INSERT_ID(), 'Guacamole', 1.99, FALSE),\n",
        "  (LAST_INSERT_ID(), 'Queso Cheese', 2.99, TRUE),\n",
        "  (LAST_INSERT_ID(), 'Extra Cheese', 2.99, FALSE),\n",
        "  (LAST_INSERT_ID(), 'Mango Salsa', 0.99, FALSE),\n",
        "  (LAST_INSERT_ID(), 'Chick Peas', 0.99, FALSE);\n",
        "\n",
        "-- Choose Dipping (Required, Choose 2)\n",
        "INSERT INTO side_menu_groups (menu_id, name, selection_type, required, min_choices, max_choices) VALUES ('quesadillas', 'Choose Dipping', 'multiple', TRUE, 2, 2);\n",
        "INSERT INTO side_menu_options (group_id, name, price) VALUES\n",
        "  (LAST_INSERT_ID(), 'Sour Cream', 0.00),\n",
        "  (LAST_INSERT_ID(), 'Mild Salsa', 0.00),\n",
        "  (LAST_INSERT_ID(), 'Tomatillo Salsa', 0.00),\n",
        "  (LAST_INSERT_ID(), 'Volcano Salsa', 0.00);\n"
      ],
      "metadata": {
        "id": "O_ZgKcmYup63"
      },
      "execution_count": null,
      "outputs": []
    },
    {
      "cell_type": "markdown",
      "source": [
        "nacho bowl\n"
      ],
      "metadata": {
        "id": "t8OZqqi_utV4"
      }
    },
    {
      "cell_type": "code",
      "source": [
        "-- Choose Beans (Required, Choose 1)\n",
        "INSERT INTO side_menu_groups (menu_id, name, selection_type, required) VALUES ('nacho_bowl', 'Choose Beans', 'single', TRUE);\n",
        "INSERT INTO side_menu_options (group_id, name, price) VALUES\n",
        "  (LAST_INSERT_ID(), 'Black Beans', 0.00),\n",
        "  (LAST_INSERT_ID(), 'Refried Beans', 0.00),\n",
        "  (LAST_INSERT_ID(), 'Refried and Black Beans', 0.00),\n",
        "  (LAST_INSERT_ID(), 'No Beans', 0.00);\n",
        "\n",
        "-- Choose Salsa (Required, Choose 1)\n",
        "INSERT INTO side_menu_groups (menu_id, name, selection_type, required) VALUES ('nacho_bowl', 'Choose Salsa', 'single', TRUE);\n",
        "INSERT INTO side_menu_options (group_id, name, price) VALUES\n",
        "  (LAST_INSERT_ID(), 'Mild Salsa', 0.00),\n",
        "  (LAST_INSERT_ID(), 'Tomatillo Salsa +', 0.00),\n",
        "  (LAST_INSERT_ID(), 'Volcano Salsa +++', 0.00),\n",
        "  (LAST_INSERT_ID(), 'No Salsa', 0.00);\n",
        "\n",
        "-- Choose Your Toppings (Required, Choose between 1 and 10)\n",
        "INSERT INTO side_menu_groups (menu_id, name, selection_type, required, min_choices, max_choices) VALUES ('nacho_bowl', 'Choose your toppings', 'multiple', TRUE, 1, 10);\n",
        "INSERT INTO side_menu_options (group_id, name, price, is_popular) VALUES\n",
        "  (LAST_INSERT_ID(), 'Cilantro Herb', 0.00, FALSE),\n",
        "  (LAST_INSERT_ID(), 'Peach & Cream Corn', 0.00, FALSE),\n",
        "  (LAST_INSERT_ID(), 'Fresca Tomato', 0.00, FALSE),\n",
        "  (LAST_INSERT_ID(), 'Jalapeno', 0.00, FALSE),\n",
        "  (LAST_INSERT_ID(), 'Green Onion', 0.00, FALSE),\n",
        "  (LAST_INSERT_ID(), 'Pickle Onion', 0.00, FALSE),\n",
        "  (LAST_INSERT_ID(), 'Red Onion', 0.00, FALSE),\n",
        "  (LAST_INSERT_ID(), 'Green Pepper', 0.00, FALSE),\n",
        "  (LAST_INSERT_ID(), 'Shredded Lettuce', 0.00, FALSE),\n",
        "  (LAST_INSERT_ID(), 'Monterey Jack Cheese', 0.00, FALSE),\n",
        "  (LAST_INSERT_ID(), 'Guacamole', 1.99, FALSE),\n",
        "  (LAST_INSERT_ID(), 'Queso Cheese', 2.99, TRUE),\n",
        "  (LAST_INSERT_ID(), 'Extra Cheese', 2.99, FALSE),\n",
        "  (LAST_INSERT_ID(), 'Mango Salsa', 0.99, FALSE),\n",
        "  (LAST_INSERT_ID(), 'Chick Peas', 0.99, FALSE);\n",
        "\n",
        "-- Choose Dressing (Required, Choose between 1 and 4)\n",
        "INSERT INTO side_menu_groups (menu_id, name, selection_type, required, min_choices, max_choices) VALUES ('nacho_bowl', 'Choose Dressing', 'multiple', TRUE, 1, 4);\n",
        "INSERT INTO side_menu_options (group_id, name, price) VALUES\n",
        "  (LAST_INSERT_ID(), 'Chipotle Dressing +', 0.00),\n",
        "  (LAST_INSERT_ID(), 'Paprika Mayo', 0.00),\n",
        "  (LAST_INSERT_ID(), 'Scotcch Hot Sauce +++', 0.00),\n",
        "  (LAST_INSERT_ID(), 'Cilantro-Lime', 0.00),\n",
        "  (LAST_INSERT_ID(), 'Creamy Garlic', 0.00),\n",
        "  (LAST_INSERT_ID(), 'Sour Cream', 0.00),\n",
        "  (LAST_INSERT_ID(), 'Burrito Sauce', 0.00),\n",
        "  (LAST_INSERT_ID(), 'Habanero Mayo ++', 0.00);\n",
        "\n",
        "-- Refreshing Drink (Choose up to 4)\n",
        "INSERT INTO side_menu_groups (menu_id, name, selection_type, max_choices) VALUES ('nacho_bowl', 'Refreshing Drink', 'multiple', 4);\n",
        "INSERT INTO side_menu_options (group_id, name, price) VALUES\n",
        "  (LAST_INSERT_ID(), 'Pepsi 591 ml', 4.99),\n",
        "  (LAST_INSERT_ID(), 'Diet Pepsi 591 ml', 4.99),\n",
        "  (LAST_INSERT_ID(), 'Ginger ale 591 ml', 4.99),\n",
        "  (LAST_INSERT_ID(), 'Crush Orange 591 ml', 4.99),\n",
        "  (LAST_INSERT_ID(), 'Mountain Dew 591 ml', 4.99),\n",
        "  (LAST_INSERT_ID(), 'Mango Jarritos Special', 4.99),\n",
        "  (LAST_INSERT_ID(), 'Mandarin Jarritos', 4.99),\n",
        "  (LAST_INSERT_ID(), 'Lime Jarritos Special', 4.99),\n",
        "  (LAST_INSERT_ID(), 'Pineapple Jarritos Special', 4.99),\n",
        "  (LAST_INSERT_ID(), 'Aquafina Water 591 ml', 2.99);\n"
      ],
      "metadata": {
        "id": "GoNSByNKutrh"
      },
      "execution_count": null,
      "outputs": []
    },
    {
      "cell_type": "markdown",
      "source": [
        "fries"
      ],
      "metadata": {
        "id": "Foj4udrxvoKg"
      }
    },
    {
      "cell_type": "code",
      "source": [
        "-- Extreme Proteins (Choose up to 1)\n",
        "INSERT INTO side_menu_groups (menu_id, name, selection_type, max_choices) VALUES ('crispy_waffle_fries', 'Extreme Proteins', 'multiple', 1);\n",
        "INSERT INTO side_menu_options (group_id, name, price) VALUES\n",
        "  (LAST_INSERT_ID(), 'Chicken 3 (oz)', 3.99),\n",
        "  (LAST_INSERT_ID(), 'Philly Steak', 3.99);\n",
        "\n",
        "-- Extreme Toppings (Choose up to 1)\n",
        "INSERT INTO side_menu_groups (menu_id, name, selection_type, max_choices) VALUES ('crispy_waffle_fries', 'Extreme Toppings', 'multiple', 1);\n",
        "INSERT INTO side_menu_options (group_id, name, price) VALUES\n",
        "  (LAST_INSERT_ID(), 'Refried Beans', 0.00),\n",
        "  (LAST_INSERT_ID(), 'Black Beans', 0.00),\n",
        "  (LAST_INSERT_ID(), 'Fresca Tomato', 0.00),\n",
        "  (LAST_INSERT_ID(), 'Peach & Cream Corn', 0.00),\n",
        "  (LAST_INSERT_ID(), 'Green Onion', 0.00),\n",
        "  (LAST_INSERT_ID(), 'Red Onion Diced', 0.00),\n",
        "  (LAST_INSERT_ID(), 'Cilantro Herb', 0.00),\n",
        "  (LAST_INSERT_ID(), 'Jalapeno', 0.00),\n",
        "  (LAST_INSERT_ID(), 'Queso Cheese', 0.00),\n",
        "  (LAST_INSERT_ID(), 'Extra Queso cheese', 2.99),\n",
        "  (LAST_INSERT_ID(), 'Sour Cream', 0.00),\n",
        "  (LAST_INSERT_ID(), 'Chives Herb', 0.00);\n"
      ],
      "metadata": {
        "id": "sY_ZajXIvpHG"
      },
      "execution_count": null,
      "outputs": []
    },
    {
      "cell_type": "markdown",
      "source": [
        "burrito"
      ],
      "metadata": {
        "id": "1aqV_E6iwM80"
      }
    },
    {
      "cell_type": "code",
      "source": [
        "-- Tortilla Choice (Required, Choose 1)\n",
        "INSERT INTO side_menu_groups (menu_id, name, selection_type, required) VALUES ('burritos', 'Tortilla Choice', 'single', TRUE);\n",
        "INSERT INTO side_menu_options (group_id, name, price) VALUES\n",
        "  (LAST_INSERT_ID(), 'White Tortilla', 0.00),\n",
        "  (LAST_INSERT_ID(), 'Whole Wheat', 0.00);\n",
        "\n",
        "-- Choose Rice (Required, Choose 1)\n",
        "INSERT INTO side_menu_groups (menu_id, name, selection_type, required) VALUES ('burritos', 'Choose Rice', 'single', TRUE);\n",
        "INSERT INTO side_menu_options (group_id, name, price) VALUES\n",
        "  (LAST_INSERT_ID(), 'Maxican Rice', 0.00),\n",
        "  (LAST_INSERT_ID(), 'No Rice', 0.00);\n",
        "\n",
        "-- Choose Beans (Required, Choose 1)\n",
        "INSERT INTO side_menu_groups (menu_id, name, selection_type, required) VALUES ('burritos', 'Choose Beans', 'single', TRUE);\n",
        "INSERT INTO side_menu_options (group_id, name, price) VALUES\n",
        "  (LAST_INSERT_ID(), 'Black Beans', 0.00),\n",
        "  (LAST_INSERT_ID(), 'Refried Beans', 0.00),\n",
        "  (LAST_INSERT_ID(), 'Refried and Black Beans', 0.00),\n",
        "  (LAST_INSERT_ID(), 'No Beans', 0.00);\n",
        "\n",
        "-- Choose Salsa (Required, Choose 1)\n",
        "INSERT INTO side_menu_groups (menu_id, name, selection_type, required) VALUES ('burritos', 'Choose Salsa', 'single', TRUE);\n",
        "INSERT INTO side_menu_options (group_id, name, price) VALUES\n",
        "  (LAST_INSERT_ID(), 'Mild Salsa', 0.00),\n",
        "  (LAST_INSERT_ID(), 'Tomatillo Salsa +', 0.00),\n",
        "  (LAST_INSERT_ID(), 'Volcano Salsa +++', 0.00),\n",
        "  (LAST_INSERT_ID(), 'No Salsa', 0.00);\n",
        "\n",
        "-- Choose Your Toppings (Required, Choose between 1 and 10)\n",
        "INSERT INTO side_menu_groups (menu_id, name, selection_type, required, min_choices, max_choices) VALUES ('burritos', 'Choose your toppings', 'multiple', TRUE, 1, 10);\n",
        "INSERT INTO side_menu_options (group_id, name, price, is_popular) VALUES\n",
        "  (LAST_INSERT_ID(), 'Cilantro Herb', 0.00, FALSE),\n",
        "  (LAST_INSERT_ID(), 'Peach & Cream Corn', 0.00, FALSE),\n",
        "  (LAST_INSERT_ID(), 'Fresca Tomato', 0.00, FALSE),\n",
        "  (LAST_INSERT_ID(), 'Jalapeno', 0.00, FALSE),\n",
        "  (LAST_INSERT_ID(), 'Green Onion', 0.00, FALSE),\n",
        "  (LAST_INSERT_ID(), 'Pickle Onion', 0.00, FALSE),\n",
        "  (LAST_INSERT_ID(), 'Red Onion', 0.00, FALSE),\n",
        "  (LAST_INSERT_ID(), 'Green Pepper', 0.00, FALSE),\n",
        "  (LAST_INSERT_ID(), 'Shredded Lettuce', 0.00, FALSE),\n",
        "  (LAST_INSERT_ID(), 'Monterey Jack Cheese', 0.00, FALSE),\n",
        "  (LAST_INSERT_ID(), 'Guacamole', 1.99, FALSE),\n",
        "  (LAST_INSERT_ID(), 'Queso Cheese', 2.99, TRUE),\n",
        "  (LAST_INSERT_ID(), 'Extra Cheese', 2.99, FALSE),\n",
        "  (LAST_INSERT_ID(), 'Mango Salsa', 0.99, FALSE),\n",
        "  (LAST_INSERT_ID(), 'Chick Peas', 0.99, FALSE);\n",
        "\n",
        "-- Choose Dressing (Required, Choose between 1 and 4)\n",
        "INSERT INTO side_menu_groups (menu_id, name, selection_type, required, min_choices, max_choices) VALUES ('burritos', 'Choose Dressing', 'multiple', TRUE, 1, 4);\n",
        "INSERT INTO side_menu_options (group_id, name, price) VALUES\n",
        "  (LAST_INSERT_ID(), 'Chipotle Dressing +', 0.00),\n",
        "  (LAST_INSERT_ID(), 'Paprika Mayo', 0.00),\n",
        "  (LAST_INSERT_ID(), 'Scotcch Hot Sauce +++', 0.00),\n",
        "  (LAST_INSERT_ID(), 'Cilantro-Lime', 0.00),\n",
        "  (LAST_INSERT_ID(), 'Creamy Garlic', 0.00),\n",
        "  (LAST_INSERT_ID(), 'Sour Cream', 0.00),\n",
        "  (LAST_INSERT_ID(), 'Burrito Sauce', 0.00),\n",
        "  (LAST_INSERT_ID(), 'Habanero Mayo ++', 0.00);\n",
        "\n",
        "-- Refreshing Drink (Choose up to 4)\n",
        "INSERT INTO side_menu_groups (menu_id, name, selection_type, max_choices) VALUES ('burritos', 'Refreshing Drink', 'multiple', 4);\n",
        "INSERT INTO side_menu_options (group_id, name, price) VALUES\n",
        "  (LAST_INSERT_ID(), 'Pepsi 591 ml', 4.99),\n",
        "  (LAST_INSERT_ID(), 'Diet Pepsi 591 ml', 4.99),\n",
        "  (LAST_INSERT_ID(), 'Ginger ale 591 ml', 4.99),\n",
        "  (LAST_INSERT_ID(), 'Crush Orange 591 ml', 4.99),\n",
        "  (LAST_INSERT_ID(), 'Mountain Dew 591 ml', 4.99),\n",
        "  (LAST_INSERT_ID(), 'Mango Jarritos Special', 4.99),\n",
        "  (LAST_INSERT_ID(), 'Mandarin Jarritos', 4.99),\n",
        "  (LAST_INSERT_ID(), 'Lime Jarritos Special', 4.99),\n",
        "  (LAST_INSERT_ID(), 'Pineapple Jarritos Special', 4.99),\n",
        "  (LAST_INSERT_ID(), 'Aquafina Water 591 ml', 2.99);\n"
      ],
      "metadata": {
        "id": "AOZaNeTxwOJ5"
      },
      "execution_count": null,
      "outputs": []
    },
    {
      "cell_type": "markdown",
      "source": [
        "tortilla salad"
      ],
      "metadata": {
        "id": "3wdhqwsuwacz"
      }
    },
    {
      "cell_type": "code",
      "source": [
        "-- Choose Base (Required, Choose 1)\n",
        "INSERT INTO side_menu_groups (menu_id, name, selection_type, required) VALUES ('tortilla_bowl', 'Choose Base', 'single', TRUE);\n",
        "INSERT INTO side_menu_options (group_id, name, price) VALUES\n",
        "  (LAST_INSERT_ID(), 'Mexican Rice Base', 0.00),\n",
        "  (LAST_INSERT_ID(), 'Shredded Lettuce Base', 0.00),\n",
        "  (LAST_INSERT_ID(), 'Mexican Rice and Lettuce Base', 0.00);\n",
        "\n",
        "-- Choose Beans (Required, Choose 1)\n",
        "INSERT INTO side_menu_groups (menu_id, name, selection_type, required) VALUES ('tortilla_bowl', 'Choose Beans', 'single', TRUE);\n",
        "INSERT INTO side_menu_options (group_id, name, price) VALUES\n",
        "  (LAST_INSERT_ID(), 'Black Beans', 0.00),\n",
        "  (LAST_INSERT_ID(), 'Refried Beans', 0.00),\n",
        "  (LAST_INSERT_ID(), 'Refried and Black Beans', 0.00),\n",
        "  (LAST_INSERT_ID(), 'No Beans', 0.00);\n",
        "\n",
        "-- Choose Salsa (Required, Choose 1)\n",
        "INSERT INTO side_menu_groups (menu_id, name, selection_type, required) VALUES ('tortilla_bowl', 'Choose Salsa', 'single', TRUE);\n",
        "INSERT INTO side_menu_options (group_id, name, price) VALUES\n",
        "  (LAST_INSERT_ID(), 'Mild Salsa', 0.00),\n",
        "  (LAST_INSERT_ID(), 'Tomatillo Salsa +', 0.00),\n",
        "  (LAST_INSERT_ID(), 'Volcano Salsa +++', 0.00),\n",
        "  (LAST_INSERT_ID(), 'No Salsa', 0.00);\n",
        "\n",
        "-- Choose Your Toppings (Required, Choose between 1 and 10)\n",
        "INSERT INTO side_menu_groups (menu_id, name, selection_type, required, min_choices, max_choices) VALUES ('tortilla_bowl', 'Choose your toppings', 'multiple', TRUE, 1, 10);\n",
        "INSERT INTO side_menu_options (group_id, name, price, is_popular) VALUES\n",
        "  (LAST_INSERT_ID(), 'Cilantro Herb', 0.00, FALSE),\n",
        "  (LAST_INSERT_ID(), 'Peach & Cream Corn', 0.00, FALSE),\n",
        "  (LAST_INSERT_ID(), 'Fresca Tomato', 0.00, FALSE),\n",
        "  (LAST_INSERT_ID(), 'Jalapeno', 0.00, FALSE),\n",
        "  (LAST_INSERT_ID(), 'Green Onion', 0.00, FALSE),\n",
        "  (LAST_INSERT_ID(), 'Pickle Onion', 0.00, FALSE),\n",
        "  (LAST_INSERT_ID(), 'Red Onion', 0.00, FALSE),\n",
        "  (LAST_INSERT_ID(), 'Green Pepper', 0.00, FALSE),\n",
        "  (LAST_INSERT_ID(), 'Shredded Lettuce', 0.00, FALSE),\n",
        "  (LAST_INSERT_ID(), 'Monterey Jack Cheese', 0.00, FALSE),\n",
        "  (LAST_INSERT_ID(), 'Guacamole', 1.99, FALSE),\n",
        "  (LAST_INSERT_ID(), 'Queso Cheese', 2.99, TRUE),\n",
        "  (LAST_INSERT_ID(), 'Extra Cheese', 2.99, FALSE),\n",
        "  (LAST_INSERT_ID(), 'Mango Salsa', 0.99, FALSE),\n",
        "  (LAST_INSERT_ID(), 'Chick Peas', 0.99, FALSE);\n",
        "\n",
        "-- Choose Dressing (Required, Choose between 1 and 4)\n",
        "INSERT INTO side_menu_groups (menu_id, name, selection_type, required, min_choices, max_choices) VALUES ('tortilla_bowl', 'Choose Dressing', 'multiple', TRUE, 1, 4);\n",
        "INSERT INTO side_menu_options (group_id, name, price) VALUES\n",
        "  (LAST_INSERT_ID(), 'Chipotle Dressing +', 0.00),\n",
        "  (LAST_INSERT_ID(), 'Paprika Mayo', 0.00),\n",
        "  (LAST_INSERT_ID(), 'Scotcch Hot Sauce +++', 0.00),\n",
        "  (LAST_INSERT_ID(), 'Cilantro-Lime', 0.00),\n",
        "  (LAST_INSERT_ID(), 'Creamy Garlic', 0.00),\n",
        "  (LAST_INSERT_ID(), 'Sour Cream', 0.00),\n",
        "  (LAST_INSERT_ID(), 'Burrito Sauce', 0.00),\n",
        "  (LAST_INSERT_ID(), 'Habanero Mayo ++', 0.00);\n",
        "\n",
        "-- Choose Drink (Required, Choose 1)\n",
        "INSERT INTO side_menu_groups (menu_id, name, selection_type, required) VALUES ('tortilla_bowl', 'Choose Drink', 'single', TRUE);\n",
        "INSERT INTO side_menu_options (group_id, name, price, is_popular) VALUES\n",
        "  (LAST_INSERT_ID(), 'Mango Jarritos', 4.99, FALSE),\n",
        "  (LAST_INSERT_ID(), 'Lime Jarritos', 4.99, FALSE),\n",
        "  (LAST_INSERT_ID(), 'Pineapple Jarritos', 4.99, FALSE),\n",
        "  (LAST_INSERT_ID(), 'Guava Jarritos', 4.99, FALSE),\n",
        "  (LAST_INSERT_ID(), 'Mandarin Jarritos', 4.99, FALSE),\n",
        "  (LAST_INSERT_ID(), 'Tamarind Jarritos', 4.99, FALSE),\n",
        "  (LAST_INSERT_ID(), 'Bottle Water', 3.25, FALSE),\n",
        "  (LAST_INSERT_ID(), 'Pepsi', 3.74, TRUE),\n",
        "  (LAST_INSERT_ID(), 'Diet Pepsi', 3.74, FALSE),\n",
        "  (LAST_INSERT_ID(), 'Ginger ale', 3.74, FALSE),\n",
        "  (LAST_INSERT_ID(), 'Mountain Dew', 3.74, FALSE),\n",
        "  (LAST_INSERT_ID(), 'Brisk Ice Tea', 3.74, FALSE),\n",
        "  (LAST_INSERT_ID(), 'Crush Orange', 3.74, FALSE);\n"
      ],
      "metadata": {
        "id": "jT4R63mHwZ0r"
      },
      "execution_count": null,
      "outputs": []
    },
    {
      "cell_type": "markdown",
      "source": [
        "pur and simple"
      ],
      "metadata": {
        "id": "E-vFXJ7sCirL"
      }
    },
    {
      "cell_type": "markdown",
      "source": [
        "junior"
      ],
      "metadata": {
        "id": "Ttcfw7a1DLLH"
      }
    },
    {
      "cell_type": "code",
      "source": [
        "-- Side Menu 1: Protein\n",
        "INSERT INTO side_menus (\n",
        "  id,\n",
        "  name,\n",
        "  limitCount,\n",
        "  required,\n",
        "  menu_id\n",
        ")\n",
        "VALUES (\n",
        "  uuid(),\n",
        "  \"Protein\",\n",
        "  1,\n",
        "  1,\n",
        "  \"junior\"\n",
        ");\n",
        "\n",
        "-- Options for Protein\n",
        "INSERT INTO side_menu_options (\n",
        "  id,\n",
        "  name,\n",
        "  amount,\n",
        "  price,\n",
        "  type,\n",
        "  side_menu_id\n",
        ") VALUES (\n",
        "  uuid(),\n",
        "  \"Bacon\",\n",
        "  null,\n",
        "  '{ \"value\": 0, \"currency\": \"CAD\" }',\n",
        "  \"SINGLE\",\n",
        "  (SELECT id FROM side_menus WHERE menu_id = \"junior\" AND name = \"Protein\" ORDER BY id DESC LIMIT 1)\n",
        "), (\n",
        "  uuid(),\n",
        "  \"Sausage\",\n",
        "  null,\n",
        "  '{ \"value\": 0, \"currency\": \"CAD\" }',\n",
        "  \"SINGLE\",\n",
        "  (SELECT id FROM side_menus WHERE menu_id = \"junior\" AND name = \"Protein\" ORDER BY id DESC LIMIT 1)\n",
        "), (\n",
        "  uuid(),\n",
        "  \"Ham\",\n",
        "  null,\n",
        "  '{ \"value\": 0, \"currency\": \"CAD\" }',\n",
        "  \"SINGLE\",\n",
        "  (SELECT id FROM side_menus WHERE menu_id = \"junior\" AND name = \"Protein\" ORDER BY id DESC LIMIT 1)\n",
        "), (\n",
        "  uuid(),\n",
        "  \"Turkey bacon (PÜR & SIMPLE)\",\n",
        "  null,\n",
        "  '{ \"value\": 0, \"currency\": \"CAD\" }',\n",
        "  \"SINGLE\",\n",
        "  (SELECT id FROM side_menus WHERE menu_id = \"junior\" AND name = \"Protein\" ORDER BY id DESC LIMIT 1)\n",
        ");"
      ],
      "metadata": {
        "id": "VRWo88K1B3sB"
      },
      "execution_count": null,
      "outputs": []
    },
    {
      "cell_type": "markdown",
      "source": [
        "french toast"
      ],
      "metadata": {
        "id": "p8lVPHYrD6N_"
      }
    },
    {
      "cell_type": "code",
      "source": [
        "-- Side Menu 2: French Toast\n",
        "INSERT INTO side_menus (\n",
        "  id,\n",
        "  name,\n",
        "  limitCount,\n",
        "  required,\n",
        "  menu_id\n",
        ")\n",
        "VALUES (\n",
        "  uuid(),\n",
        "  \"French Toast\",\n",
        "  1,\n",
        "  1,\n",
        "  \"junior\"\n",
        ");\n",
        "\n",
        "-- Options for French Toast\n",
        "INSERT INTO side_menu_options (\n",
        "  id,\n",
        "  name,\n",
        "  amount,\n",
        "  price,\n",
        "  type,\n",
        "  side_menu_id\n",
        ") VALUES (\n",
        "  uuid(),\n",
        "  \"3 Slices\",\n",
        "  null,\n",
        "  '{ \"value\": 0, \"currency\": \"CAD\" }',\n",
        "  \"SINGLE\",\n",
        "  (SELECT id FROM side_menus WHERE menu_id = \"junior\" AND name = \"French Toast\" ORDER BY id DESC LIMIT 1)\n",
        "), (\n",
        "  uuid(),\n",
        "  \"2 Slices\",\n",
        "  null,\n",
        "  '{ \"value\": 0, \"currency\": \"CAD\" }',\n",
        "  \"SINGLE\",\n",
        "  (SELECT id FROM side_menus WHERE menu_id = \"junior\" AND name = \"French Toast\" ORDER BY id DESC LIMIT 1)\n",
        ");"
      ],
      "metadata": {
        "id": "9Xz1pHanD7Yh"
      },
      "execution_count": null,
      "outputs": []
    },
    {
      "cell_type": "markdown",
      "source": [
        "eggholic"
      ],
      "metadata": {
        "id": "5PSBTUO9D8ck"
      }
    },
    {
      "cell_type": "markdown",
      "source": [
        "bevs"
      ],
      "metadata": {
        "id": "xsi3rrseFVZf"
      }
    },
    {
      "cell_type": "code",
      "source": [
        "-- Side Menu 3: Tea\n",
        "INSERT INTO side_menus (\n",
        "  id,\n",
        "  name,\n",
        "  limitCount,\n",
        "  required,\n",
        "  menu_id\n",
        ")\n",
        "VALUES (\n",
        "  uuid(),\n",
        "  \"Tea\",\n",
        "  1,\n",
        "  0,\n",
        "  \"junior\"\n",
        ");\n",
        "\n",
        "-- Options for Tea\n",
        "INSERT INTO side_menu_options (\n",
        "  id,\n",
        "  name,\n",
        "  amount,\n",
        "  price,\n",
        "  type,\n",
        "  side_menu_id\n",
        ") VALUES (\n",
        "  uuid(),\n",
        "  \"Extra Nuts\",\n",
        "  null,\n",
        "  '{ \"value\": 100, \"currency\": \"CAD\" }',\n",
        "  \"SINGLE\",\n",
        "  (SELECT id FROM side_menus WHERE menu_id = \"junior\" AND name = \"Tea\" ORDER BY id DESC LIMIT 1)\n",
        "), (\n",
        "  uuid(),\n",
        "  \"Extra Ice Cream\",\n",
        "  null,\n",
        "  '{ \"value\": 199, \"currency\": \"CAD\" }',\n",
        "  \"SINGLE\",\n",
        "  (SELECT id FROM side_menus WHERE menu_id = \"junior\" AND name = \"Tea\" ORDER BY id DESC LIMIT 1)\n",
        ");\n"
      ],
      "metadata": {
        "id": "rlncLVFcFR8e"
      },
      "execution_count": null,
      "outputs": []
    },
    {
      "cell_type": "markdown",
      "source": [
        "egg grill"
      ],
      "metadata": {
        "id": "Ihdcuv7SFXKS"
      }
    },
    {
      "cell_type": "code",
      "source": [
        "-- Side Menu: Spice Level\n",
        "INSERT INTO side_menus (\n",
        "  id, name, limitCount, required, menu_id\n",
        ") VALUES (\n",
        "  uuid(), \"Spice Level\", 1, 0, \"junior\"\n",
        ");\n",
        "\n",
        "INSERT INTO side_menu_options (\n",
        "  id, name, amount, price, type, side_menu_id\n",
        ") VALUES\n",
        "  (uuid(), \"NO SPICY (FOR KIDS)\", null, '{ \"value\": 0, \"currency\": \"CAD\" }', \"SINGLE\",\n",
        "    (SELECT id FROM side_menus WHERE menu_id = \"junior\" AND name = \"Spice Level\" ORDER BY id DESC LIMIT 1)),\n",
        "  (uuid(), \"MILD (LESS SPICY)\", null, '{ \"value\": 0, \"currency\": \"CAD\" }', \"SINGLE\",\n",
        "    (SELECT id FROM side_menus WHERE menu_id = \"junior\" AND name = \"Spice Level\" ORDER BY id DESC LIMIT 1)),\n",
        "  (uuid(), \"SPICY (INDIAN SPICY)\", null, '{ \"value\": 0, \"currency\": \"CAD\" }', \"SINGLE\",\n",
        "    (SELECT id FROM side_menus WHERE menu_id = \"junior\" AND name = \"Spice Level\" ORDER BY id DESC LIMIT 1));\n",
        "\n",
        "-- Side Menu: Extra Egg\n",
        "INSERT INTO side_menus (\n",
        "  id, name, limitCount, required, menu_id\n",
        ") VALUES (\n",
        "  uuid(), \"Extra Egg\", 1, 0, \"junior\"\n",
        ");\n",
        "\n",
        "INSERT INTO side_menu_options (\n",
        "  id, name, amount, price, type, side_menu_id\n",
        ") VALUES\n",
        "  (uuid(), \"Extra Egg (1 Piece)\", null, '{ \"value\": 199, \"currency\": \"CAD\" }', \"SINGLE\",\n",
        "    (SELECT id FROM side_menus WHERE menu_id = \"junior\" AND name = \"Extra Egg\" ORDER BY id DESC LIMIT 1));\n",
        "\n",
        "-- Side Menu: Extra Cheese\n",
        "INSERT INTO side_menus (\n",
        "  id, name, limitCount, required, menu_id\n",
        ") VALUES (\n",
        "  uuid(), \"Extra Cheese\", 1, 0, \"junior\"\n",
        ");\n",
        "\n",
        "INSERT INTO side_menu_options (\n",
        "  id, name, amount, price, type, side_menu_id\n",
        ") VALUES\n",
        "  (uuid(), \"Extra Cheese\", null, '{ \"value\": 199, \"currency\": \"CAD\" }', \"SINGLE\",\n",
        "    (SELECT id FROM side_menus WHERE menu_id = \"junior\" AND name = \"Extra Cheese\" ORDER BY id DESC LIMIT 1));\n",
        "\n",
        "-- Side Menu: Egg Whites\n",
        "INSERT INTO side_menus (\n",
        "  id, name, limitCount, required, menu_id\n",
        ") VALUES (\n",
        "  uuid(), \"Egg Whites\", 1, 0, \"junior\"\n",
        ");\n",
        "\n",
        "INSERT INTO side_menu_options (\n",
        "  id, name, amount, price, type, side_menu_id\n",
        ") VALUES\n",
        "  (uuid(), \"Egg Whites\", null, '{ \"value\": 150, \"currency\": \"CAD\" }', \"SINGLE\",\n",
        "    (SELECT id FROM side_menus WHERE menu_id = \"junior\" AND name = \"Egg Whites\" ORDER BY id DESC LIMIT 1));"
      ],
      "metadata": {
        "id": "zYfO9mHqF6XF"
      },
      "execution_count": null,
      "outputs": []
    },
    {
      "cell_type": "markdown",
      "source": [
        "veg sandos"
      ],
      "metadata": {
        "id": "AuGIhsNHF8FL"
      }
    },
    {
      "cell_type": "code",
      "source": [
        "-- Side Menu: Spice Level\n",
        "INSERT INTO side_menus (\n",
        "  id, name, limitCount, required, menu_id\n",
        ") VALUES (\n",
        "  uuid(), \"Spice Level\", 1, 0, \"junior\"\n",
        ");\n",
        "\n",
        "INSERT INTO side_menu_options (\n",
        "  id, name, amount, price, type, side_menu_id\n",
        ") VALUES\n",
        "  (uuid(), \"NO SPICY (FOR KIDS)\", null, '{ \"value\": 0, \"currency\": \"CAD\" }', \"SINGLE\",\n",
        "    (SELECT id FROM side_menus WHERE menu_id = \"junior\" AND name = \"Spice Level\" ORDER BY id DESC LIMIT 1)),\n",
        "  (uuid(), \"MILD (LESS SPICY)\", null, '{ \"value\": 0, \"currency\": \"CAD\" }', \"SINGLE\",\n",
        "    (SELECT id FROM side_menus WHERE menu_id = \"junior\" AND name = \"Spice Level\" ORDER BY id DESC LIMIT 1)),\n",
        "  (uuid(), \"SPICY (INDIAN SPICY)\", null, '{ \"value\": 0, \"currency\": \"CAD\" }', \"SINGLE\",\n",
        "    (SELECT id FROM side_menus WHERE menu_id = \"junior\" AND name = \"Spice Level\" ORDER BY id DESC LIMIT 1));"
      ],
      "metadata": {
        "id": "SCK18TLHGhW8"
      },
      "execution_count": null,
      "outputs": []
    }
  ],
  "metadata": {
    "colab": {
      "name": "Welcome To Colab",
      "provenance": [],
      "include_colab_link": true
    },
    "kernelspec": {
      "display_name": "Python 3",
      "name": "python3"
    }
  },
  "nbformat": 4,
  "nbformat_minor": 0
}